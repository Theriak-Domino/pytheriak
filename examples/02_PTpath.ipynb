{
 "cells": [
  {
   "attachments": {},
   "cell_type": "markdown",
   "metadata": {},
   "source": [
    "# **02 Model evolution along a *P*–*T*-path**\n",
    "---\n",
    "\n",
    "This notebook shows you how to:\n",
    "1. Model the system evolution of a rock along a predefined *P*–*T*-trajectory, by:\n",
    "    * Automatically calling repeated Theriak minimisations.\n",
    "    * Forwarding of bulk rock composition.\n",
    "2. Visualisation of mineral modes an compostion as a function of *P* and *T*.\n",
    "3. Fractionated phases for modelling along a *P*–*T*-path with evolving reactive bulk rock composition.\n",
    "\n",
    "**Requirements:**\n",
    "- python >= 3.10\n",
    "*with the following packages installed:*\n",
    "- pytheriak\n",
    "- matplotlib\n",
    "- ...\n",
    "\n",
    "*Theriak-Domino back-end:*\n",
    "- A working Theriak-Domino installation.\n",
    "- Thermodynamic databases to use with Theriak in the working directory.\n",
    "---"
   ]
  },
  {
   "attachments": {},
   "cell_type": "markdown",
   "metadata": {},
   "source": [
    "### Import all required libraries."
   ]
  },
  {
   "cell_type": "code",
   "execution_count": 1,
   "metadata": {},
   "outputs": [],
   "source": [
    "import numpy as np\n",
    "import pandas as pd\n",
    "import matplotlib.pyplot as plt\n",
    "import seaborn as sns\n",
    "from pathlib import Path\n",
    "from pytheriak import wrapper"
   ]
  },
  {
   "attachments": {},
   "cell_type": "markdown",
   "metadata": {},
   "source": [
    "### Initiate a TherCaller-object.\n",
    "The argument `programs_dir` must be set to the directory of your Theriak_Domino installation."
   ]
  },
  {
   "cell_type": "code",
   "execution_count": 2,
   "metadata": {},
   "outputs": [],
   "source": [
    "theriak = wrapper.TherCaller(programs_dir=\"C:\\\\TheriakDominoWIN\\\\Programs\",\n",
    "                             database=\"td-ds62-mb50-v07.txt\",\n",
    "                             theriak_version=\"v2023.03.06\")"
   ]
  },
  {
   "attachments": {},
   "cell_type": "markdown",
   "metadata": {},
   "source": [
    "### Set model parameter\n",
    "*P*–*T*-path from Gerya et al. (2002) in Vho et al. (2020) Fig. 2 (https://doi.org/10.5194/se-11-307-2020).\\\n",
    "TODO: Add in refenrence to Thorstens P-T-path extraction tool.\\\n",
    "\\\n",
    "*Bulk rock compositions of unaltered and altered metabaslat in Vho et al. (2020) (https://doi.org/10.5194/se-11-307-2020).*\n"
   ]
  },
  {
   "cell_type": "code",
   "execution_count": 3,
   "metadata": {},
   "outputs": [],
   "source": [
    "pt_path = np.loadtxt(Path(\"PTpath_Gerya2002.txt\")).T\n",
    "bulk_MORB = \"SI(44.78)TI(1.12)AL(15.37)FE(7.74)MN(0.00)MG(10.03)CA(10.83)NA(4.80)K(0.18)H(30.64)O(?)O(1)\"\n",
    "bulk_AOC = \"SI(41.37)TI(0.76)AL(16.54)FE(4.76)MN(0.00)MG(8.97)CA(12.46)NA(3.61)K(0.64)H(35.28)O(?)O(1)\""
   ]
  },
  {
   "attachments": {},
   "cell_type": "markdown",
   "metadata": {},
   "source": [
    "Create lists to store the data we want to track along the *P*–*T*-path."
   ]
  },
  {
   "cell_type": "code",
   "execution_count": 4,
   "metadata": {},
   "outputs": [],
   "source": [
    "lawsonite_stable = []\n",
    "lawsonite_vol_percent = []\n",
    "lawsonite_dG = []\n",
    "# to have complete data, store all rocks along PT path\n",
    "rocks = []"
   ]
  },
  {
   "attachments": {},
   "cell_type": "markdown",
   "metadata": {},
   "source": [
    "Loop over temperature and pressure pairs in of the *P*–*T*-path."
   ]
  },
  {
   "cell_type": "code",
   "execution_count": 5,
   "metadata": {},
   "outputs": [
    {
     "name": "stdout",
     "output_type": "stream",
     "text": [
      "WARNING: No fluid phase stable at given P-T-X. Water-sat. conditions not fulfilled.\n",
      "WARNING: No fluid phase stable at given P-T-X. Water-sat. conditions not fulfilled.\n",
      "WARNING: No fluid phase stable at given P-T-X. Water-sat. conditions not fulfilled.\n",
      "WARNING: No fluid phase stable at given P-T-X. Water-sat. conditions not fulfilled.\n",
      "WARNING: No fluid phase stable at given P-T-X. Water-sat. conditions not fulfilled.\n",
      "WARNING: No fluid phase stable at given P-T-X. Water-sat. conditions not fulfilled.\n",
      "WARNING: No fluid phase stable at given P-T-X. Water-sat. conditions not fulfilled.\n",
      "WARNING: No fluid phase stable at given P-T-X. Water-sat. conditions not fulfilled.\n"
     ]
    }
   ],
   "source": [
    "for temperature, pressure in pt_path:\n",
    "    rock, element_list = theriak.minimisation(pressure, temperature, bulk_MORB, return_failed_minimisation=True)\n",
    "\n",
    "    # look for lawsonite in the names of the mineral assemblage\n",
    "    mineral_names = [mineral.name for mineral in rock.mineral_assemblage]\n",
    "    law_stable = \"law\" in mineral_names\n",
    "    # when \"law\" is in the list of mineral names, it is stable\n",
    "    lawsonite_stable.append(law_stable)\n",
    "\n",
    "    # if lawsonite is stable, store its volume percent, delta G is None in that case\n",
    "    if law_stable:\n",
    "        law_idx = mineral_names.index(\"law\")\n",
    "        lawsonite_vol_percent.append(rock.mineral_assemblage[law_idx].vol_percent)\n",
    "        lawsonite_dG.append(None)\n",
    "    # if lawsonite is not stable, store its delta G, volume percent is None in that case\n",
    "    else:\n",
    "        lawsonite_vol_percent.append(None)\n",
    "        lawsonite_dG.append(rock.mineral_delta_G[\"law\"])\n",
    "\n",
    "    rocks.append(rock)"
   ]
  },
  {
   "attachments": {},
   "cell_type": "markdown",
   "metadata": {},
   "source": [
    "All the data lists, pressure and temperature are combined into a pandas DataFrame."
   ]
  },
  {
   "cell_type": "code",
   "execution_count": 6,
   "metadata": {},
   "outputs": [],
   "source": [
    "laws_in_MORB = pd.DataFrame({\"Temperature\": pt_path[:, 0],\n",
    "                             \"Pressure\": pt_path[:, 1],\n",
    "                             \"Pressure_kbar\": pt_path[:, 1] / 1000,\n",
    "                             \"Lawsonite stable\": lawsonite_stable,\n",
    "                             \"Lawsonite vol %\": lawsonite_vol_percent,\n",
    "                             \"Lawsonite dG\": lawsonite_dG})"
   ]
  },
  {
   "attachments": {},
   "cell_type": "markdown",
   "metadata": {},
   "source": [
    "A DataFrame allows user-friendly spreadsheet like data visualisation.\n",
    "Look at the first and last entries with `head()` and `tails()`."
   ]
  },
  {
   "cell_type": "code",
   "execution_count": 7,
   "metadata": {},
   "outputs": [
    {
     "data": {
      "text/html": [
       "<div>\n",
       "<style scoped>\n",
       "    .dataframe tbody tr th:only-of-type {\n",
       "        vertical-align: middle;\n",
       "    }\n",
       "\n",
       "    .dataframe tbody tr th {\n",
       "        vertical-align: top;\n",
       "    }\n",
       "\n",
       "    .dataframe thead th {\n",
       "        text-align: right;\n",
       "    }\n",
       "</style>\n",
       "<table border=\"1\" class=\"dataframe\">\n",
       "  <thead>\n",
       "    <tr style=\"text-align: right;\">\n",
       "      <th></th>\n",
       "      <th>Temperature</th>\n",
       "      <th>Pressure</th>\n",
       "      <th>Pressure_kbar</th>\n",
       "      <th>Lawsonite stable</th>\n",
       "      <th>Lawsonite vol %</th>\n",
       "      <th>Lawsonite dG</th>\n",
       "    </tr>\n",
       "  </thead>\n",
       "  <tbody>\n",
       "    <tr>\n",
       "      <th>0</th>\n",
       "      <td>350.000</td>\n",
       "      <td>12965.204236</td>\n",
       "      <td>12.965204</td>\n",
       "      <td>True</td>\n",
       "      <td>19.0384</td>\n",
       "      <td>NaN</td>\n",
       "    </tr>\n",
       "    <tr>\n",
       "      <th>1</th>\n",
       "      <td>373.625</td>\n",
       "      <td>14417.549168</td>\n",
       "      <td>14.417549</td>\n",
       "      <td>True</td>\n",
       "      <td>19.5503</td>\n",
       "      <td>NaN</td>\n",
       "    </tr>\n",
       "    <tr>\n",
       "      <th>2</th>\n",
       "      <td>398.125</td>\n",
       "      <td>15930.408472</td>\n",
       "      <td>15.930408</td>\n",
       "      <td>True</td>\n",
       "      <td>24.9875</td>\n",
       "      <td>NaN</td>\n",
       "    </tr>\n",
       "    <tr>\n",
       "      <th>3</th>\n",
       "      <td>420.000</td>\n",
       "      <td>16777.609682</td>\n",
       "      <td>16.777610</td>\n",
       "      <td>True</td>\n",
       "      <td>26.7180</td>\n",
       "      <td>NaN</td>\n",
       "    </tr>\n",
       "    <tr>\n",
       "      <th>4</th>\n",
       "      <td>439.250</td>\n",
       "      <td>17534.039334</td>\n",
       "      <td>17.534039</td>\n",
       "      <td>True</td>\n",
       "      <td>26.2032</td>\n",
       "      <td>NaN</td>\n",
       "    </tr>\n",
       "  </tbody>\n",
       "</table>\n",
       "</div>"
      ],
      "text/plain": [
       "   Temperature      Pressure  Pressure_kbar  Lawsonite stable  \\\n",
       "0      350.000  12965.204236      12.965204              True   \n",
       "1      373.625  14417.549168      14.417549              True   \n",
       "2      398.125  15930.408472      15.930408              True   \n",
       "3      420.000  16777.609682      16.777610              True   \n",
       "4      439.250  17534.039334      17.534039              True   \n",
       "\n",
       "   Lawsonite vol %  Lawsonite dG  \n",
       "0          19.0384           NaN  \n",
       "1          19.5503           NaN  \n",
       "2          24.9875           NaN  \n",
       "3          26.7180           NaN  \n",
       "4          26.2032           NaN  "
      ]
     },
     "execution_count": 7,
     "metadata": {},
     "output_type": "execute_result"
    }
   ],
   "source": [
    "laws_in_MORB.head()"
   ]
  },
  {
   "cell_type": "code",
   "execution_count": 8,
   "metadata": {},
   "outputs": [
    {
     "data": {
      "text/html": [
       "<div>\n",
       "<style scoped>\n",
       "    .dataframe tbody tr th:only-of-type {\n",
       "        vertical-align: middle;\n",
       "    }\n",
       "\n",
       "    .dataframe tbody tr th {\n",
       "        vertical-align: top;\n",
       "    }\n",
       "\n",
       "    .dataframe thead th {\n",
       "        text-align: right;\n",
       "    }\n",
       "</style>\n",
       "<table border=\"1\" class=\"dataframe\">\n",
       "  <thead>\n",
       "    <tr style=\"text-align: right;\">\n",
       "      <th></th>\n",
       "      <th>Temperature</th>\n",
       "      <th>Pressure</th>\n",
       "      <th>Pressure_kbar</th>\n",
       "      <th>Lawsonite stable</th>\n",
       "      <th>Lawsonite vol %</th>\n",
       "      <th>Lawsonite dG</th>\n",
       "    </tr>\n",
       "  </thead>\n",
       "  <tbody>\n",
       "    <tr>\n",
       "      <th>13</th>\n",
       "      <td>619.500</td>\n",
       "      <td>23464.447806</td>\n",
       "      <td>23.464448</td>\n",
       "      <td>False</td>\n",
       "      <td>NaN</td>\n",
       "      <td>986.418</td>\n",
       "    </tr>\n",
       "    <tr>\n",
       "      <th>14</th>\n",
       "      <td>640.500</td>\n",
       "      <td>24069.591528</td>\n",
       "      <td>24.069592</td>\n",
       "      <td>False</td>\n",
       "      <td>NaN</td>\n",
       "      <td>1537.670</td>\n",
       "    </tr>\n",
       "    <tr>\n",
       "      <th>15</th>\n",
       "      <td>662.375</td>\n",
       "      <td>24765.506808</td>\n",
       "      <td>24.765507</td>\n",
       "      <td>False</td>\n",
       "      <td>NaN</td>\n",
       "      <td>2366.970</td>\n",
       "    </tr>\n",
       "    <tr>\n",
       "      <th>16</th>\n",
       "      <td>681.625</td>\n",
       "      <td>25340.393343</td>\n",
       "      <td>25.340393</td>\n",
       "      <td>False</td>\n",
       "      <td>NaN</td>\n",
       "      <td>3157.740</td>\n",
       "    </tr>\n",
       "    <tr>\n",
       "      <th>17</th>\n",
       "      <td>700.000</td>\n",
       "      <td>25975.794251</td>\n",
       "      <td>25.975794</td>\n",
       "      <td>False</td>\n",
       "      <td>NaN</td>\n",
       "      <td>3809.070</td>\n",
       "    </tr>\n",
       "  </tbody>\n",
       "</table>\n",
       "</div>"
      ],
      "text/plain": [
       "    Temperature      Pressure  Pressure_kbar  Lawsonite stable  \\\n",
       "13      619.500  23464.447806      23.464448             False   \n",
       "14      640.500  24069.591528      24.069592             False   \n",
       "15      662.375  24765.506808      24.765507             False   \n",
       "16      681.625  25340.393343      25.340393             False   \n",
       "17      700.000  25975.794251      25.975794             False   \n",
       "\n",
       "    Lawsonite vol %  Lawsonite dG  \n",
       "13              NaN       986.418  \n",
       "14              NaN      1537.670  \n",
       "15              NaN      2366.970  \n",
       "16              NaN      3157.740  \n",
       "17              NaN      3809.070  "
      ]
     },
     "execution_count": 8,
     "metadata": {},
     "output_type": "execute_result"
    }
   ],
   "source": [
    "laws_in_MORB.tail()"
   ]
  },
  {
   "cell_type": "code",
   "execution_count": 19,
   "metadata": {},
   "outputs": [
    {
     "data": {
      "image/png": "[encoded data removed]",
      "text/plain": [
       "<Figure size 640x480 with 1 Axes>"
      ]
     },
     "metadata": {},
     "output_type": "display_data"
    }
   ],
   "source": [
    "fig, axs = plt.subplots()\n",
    "\n",
    "sns.scatterplot(data=laws_in_MORB,\n",
    "                x=\"Temperature\",\n",
    "                y=\"Pressure_kbar\",\n",
    "                hue=\"Lawsonite vol %\",\n",
    "                s=100,\n",
    "                label=\"Lawsonite vol %\",\n",
    "                ax=axs)\n",
    "\n",
    "sns.scatterplot(data=laws_in_MORB,\n",
    "                x=\"Temperature\",\n",
    "                y=\"Pressure_kbar\",\n",
    "                palette=sns.color_palette(\"light:#FFC300\"),\n",
    "                hue=\"Lawsonite dG\",\n",
    "                s=100,\n",
    "                marker=\"D\",\n",
    "                label=\"Lawsonite dG [J]\",\n",
    "                ax=axs)\n",
    "\n",
    "axs.set_xlabel(\"Temperature [°C]\")\n",
    "axs.set_ylabel(\"Pressure [kbar]\")\n",
    "\n",
    "axs.legend(bbox_to_anchor=(1.05, 1), frameon=False)\n",
    "\n",
    "axs.set_frame_on(False)\n",
    "\n",
    "fig.tight_layout()\n",
    "\n",
    "plt.show()"
   ]
  },
  {
   "attachments": {},
   "cell_type": "markdown",
   "metadata": {},
   "source": [
    "However, from the petrography of lawsonite-bearing blueschists and eclogites we now that lawsonite tends to form big porphyroblasts. Equilibration of such porphyroblasts is believed to often be kinetically inhibited. Like this the elements bound in the lawsonite is effectively removed from the reactive bulk rock compostion.\\\n",
    "\n",
    "To account for this in our model we must update our bulk rock compostion if a fractionating (porphyroblast-forming) phase has formed."
   ]
  },
  {
   "cell_type": "code",
   "execution_count": 10,
   "metadata": {},
   "outputs": [],
   "source": [
    "def bulk_from_compositionalvector(composition: list | np.ndarray, element_list: list | np.ndarray):\n",
    "    bulk = \"\"\n",
    "    for moles, element in zip(composition, element_list):\n",
    "        bulk += element\n",
    "        bulk += \"(\" + str(moles) + \")\"\n",
    "\n",
    "    return bulk"
   ]
  },
  {
   "cell_type": "code",
   "execution_count": 29,
   "metadata": {},
   "outputs": [],
   "source": [
    "lawsonite_stable_fract = []\n",
    "lawsonite_restable_fract = []\n",
    "garnet_stable_fract = []\n",
    "\n",
    "lawsonite_vol_percent_fract = [0]\n",
    "garnet_vol_percent_fract = [0]\n",
    "\n",
    "lawsonite_dG_fract = []\n",
    "\n",
    "rocks_fract = []\n",
    "\n",
    "# list to track reacting volume of system with fractionation\n",
    "reactive_vol_fract = [1]\n",
    "\n",
    "# these arrays take care of the absolute moles for fractionation calculations\n",
    "# initialize with 0\n",
    "lawsonite_moles = np.array([np.zeros(len(element_list))])\n",
    "garnet_moles = np.array([np.zeros(len(element_list))])\n",
    "# initialize with the bulk composition of MORB\n",
    "reactive_bulk_moles = np.array([rocks[0].bulk_composition_moles])"
   ]
  },
  {
   "cell_type": "code",
   "execution_count": 30,
   "metadata": {},
   "outputs": [
    {
     "name": "stdout",
     "output_type": "stream",
     "text": [
      "WARNING: No fluid phase stable at given P-T-X. Water-sat. conditions not fulfilled.\n",
      "WARNING: No fluid phase stable at given P-T-X. Water-sat. conditions not fulfilled.\n",
      "WARNING: No fluid phase stable at given P-T-X. Water-sat. conditions not fulfilled.\n",
      "WARNING: No fluid phase stable at given P-T-X. Water-sat. conditions not fulfilled.\n",
      "WARNING: No fluid phase stable at given P-T-X. Water-sat. conditions not fulfilled.\n",
      "WARNING: No fluid phase stable at given P-T-X. Water-sat. conditions not fulfilled.\n",
      "Lawsonite, got restabilised at 439 °C and 17534 bar\n",
      "WARNING: No fluid phase stable at given P-T-X. Water-sat. conditions not fulfilled.\n",
      "WARNING: No fluid phase stable at given P-T-X. Water-sat. conditions not fulfilled.\n",
      "WARNING: No fluid phase stable at given P-T-X. Water-sat. conditions not fulfilled.\n"
     ]
    }
   ],
   "source": [
    "for temperature, pressure in pt_path:\n",
    "    input_bulk = bulk_from_compositionalvector(reactive_bulk_moles[-1], element_list)\n",
    "\n",
    "    rock, element_list = theriak.minimisation(pressure, temperature, input_bulk, return_failed_minimisation=True)\n",
    "\n",
    "    # look for lawsonite in the names of the mineral assemblage\n",
    "    mineral_names = [mineral.name for mineral in rock.mineral_assemblage]\n",
    "    law_stable = \"law\" in mineral_names\n",
    "\n",
    "    if not law_stable:\n",
    "        # change the input (reactive) bulk to include lawsonite\n",
    "        input_bulk = bulk_from_compositionalvector(reactive_bulk_moles[-1] + lawsonite_moles[-1], element_list)\n",
    "        rock_incl_law, element_list = theriak.minimisation(pressure, temperature, input_bulk, return_failed_minimisation=True)\n",
    "\n",
    "        # look for lawsonite in the names of the mineral assemblage\n",
    "        mineral_names_incl_law = [mineral.name for mineral in rock_incl_law.mineral_assemblage]\n",
    "        law_restable = \"law\" in mineral_names_incl_law\n",
    "\n",
    "        if law_restable:\n",
    "\n",
    "            print(f\"Lawsonite, got restabilised at {temperature:.0f} °C and {pressure:.0f} bar\".format(temperature, pressure))\n",
    "\n",
    "        else:\n",
    "            rock = rock_incl_law\n",
    "            mineral_names = mineral_names_incl_law\n",
    "            reactive_bulk_moles[-1] += lawsonite_moles[-1]\n",
    "\n",
    "        lawsonite_stable_fract.append(law_restable)\n",
    "\n",
    "    else:\n",
    "        lawsonite_stable_fract.append(law_stable)\n",
    "\n",
    "    # look for garnet in the names of the mineral assemblage\n",
    "    # all possible solutions (all starting with \"GRT_\") must be checked\n",
    "    garnet_stable = len([mineral for mineral in mineral_names if mineral.startswith(\"GRT_\")]) > 0\n",
    "    # when \"GRT_\" is in the list of mineral names, it is stable\n",
    "    garnet_stable_fract.append(garnet_stable)\n",
    "\n",
    "    # append data of interest to lists\n",
    "    if garnet_stable:\n",
    "        garnet_idx = mineral_names.index([mineral for mineral in mineral_names if mineral.startswith(\"GRT_\")][0])\n",
    "        garnet_vol_percent = rock.mineral_assemblage[garnet_idx].vol_percent\n",
    "        # correct for fraction of reacting volume\n",
    "        garnet_vol_percent = garnet_vol_percent * reactive_vol_fract[-1]\n",
    "        garnet_vol_percent_fract.append(garnet_vol_percent_fract[-1] + garnet_vol_percent)\n",
    "\n",
    "        # add the moles of garnet to the array\n",
    "        new_garnet_moles = rock.mineral_assemblage[garnet_idx].composition_moles\n",
    "        garnet_moles = np.append(garnet_moles, [new_garnet_moles], axis=0)\n",
    "\n",
    "    else:\n",
    "        garnet_vol_percent = 0\n",
    "        garnet_vol_percent_fract.append(garnet_vol_percent_fract[-1])\n",
    "\n",
    "        garnet_moles = np.append(garnet_moles, [np.zeros(len(element_list))], axis=0)\n",
    "\n",
    "\n",
    "    if law_stable:\n",
    "        law_idx = mineral_names.index(\"law\")\n",
    "        law_vol_percent = rock.mineral_assemblage[law_idx].vol_percent\n",
    "\n",
    "        # correct for fraction of reacting volume\n",
    "        law_vol_percent = law_vol_percent * reactive_vol_fract[-1]\n",
    "        lawsonite_vol_percent_fract.append(lawsonite_vol_percent_fract[-1] + law_vol_percent)\n",
    "\n",
    "        # add the moles of lawsonite to the array\n",
    "        new_lawsonite_moles = rock.mineral_assemblage[law_idx].composition_moles\n",
    "\n",
    "        lawsonite_moles = np.append(lawsonite_moles, [new_lawsonite_moles], axis=0)\n",
    "\n",
    "        lawsonite_dG_fract.append(None)\n",
    "\n",
    "    else:\n",
    "        if law_restable:\n",
    "            lawsonite_vol_percent_fract.append(lawsonite_vol_percent_fract[-1])\n",
    "        else:\n",
    "            lawsonite_vol_percent_fract.append(None)\n",
    "\n",
    "        lawsonite_moles = np.append(lawsonite_moles, [np.zeros(len(element_list))], axis=0)\n",
    "\n",
    "        lawsonite_dG_fract.append(rock.mineral_delta_G[\"law\"])\n",
    "\n",
    "    # update reactive volume\n",
    "    reactive_vol_fract.append(reactive_vol_fract[-1] - law_vol_percent/100 - garnet_vol_percent/100)\n",
    "\n",
    "    # fractionate the bulk composition\n",
    "    reactive_bulk_moles = np.append(reactive_bulk_moles, [reactive_bulk_moles[-1] - lawsonite_moles[-1] - garnet_moles[-1]], axis=0)"
   ]
  },
  {
   "cell_type": "code",
   "execution_count": 54,
   "metadata": {},
   "outputs": [],
   "source": [
    "laws_in_MORB_fract = pd.DataFrame({\"Temperature\": pt_path[:, 0],\n",
    "                                   \"Pressure\": pt_path[:, 1],\n",
    "                                   \"Pressure_kbar\": pt_path[:, 1] / 1000,\n",
    "                                   \"Lawsonite stable\": lawsonite_stable_fract,\n",
    "                                   \"Lawsonite vol %\": lawsonite_vol_percent_fract[1:],\n",
    "                                   \"Lawsonite dG\": lawsonite_dG_fract,\n",
    "                                   \"Garnet stable\": garnet_stable_fract,\n",
    "                                   \"Garnet vol %\": garnet_vol_percent_fract[1:]})"
   ]
  },
  {
   "cell_type": "code",
   "execution_count": 57,
   "metadata": {},
   "outputs": [
    {
     "data": {
      "text/plain": [
       "0            NaN\n",
       "1            NaN\n",
       "2            NaN\n",
       "3            NaN\n",
       "4        88.0058\n",
       "5            NaN\n",
       "6            NaN\n",
       "7            NaN\n",
       "8      1312.8200\n",
       "9      3536.1100\n",
       "10     5799.8000\n",
       "11     7877.5700\n",
       "12    10370.4000\n",
       "13    12154.4000\n",
       "14    14586.6000\n",
       "15    17082.6000\n",
       "16    19237.2000\n",
       "17    21172.2000\n",
       "Name: Lawsonite dG, dtype: float64"
      ]
     },
     "execution_count": 57,
     "metadata": {},
     "output_type": "execute_result"
    }
   ],
   "source": [
    "laws_in_MORB_fract[\"Lawsonite dG\"]"
   ]
  },
  {
   "cell_type": "code",
   "execution_count": 64,
   "metadata": {},
   "outputs": [
    {
     "data": {
      "image/png": "[encoded data removed]",
      "text/plain": [
       "<Figure size 640x480 with 1 Axes>"
      ]
     },
     "metadata": {},
     "output_type": "display_data"
    }
   ],
   "source": [
    "fig, axs = plt.subplots()\n",
    "\n",
    "sns.scatterplot(data=laws_in_MORB_fract,\n",
    "                x=\"Temperature\",\n",
    "                y=\"Pressure_kbar\",\n",
    "                #palette=sns.color_palette(\"light:#FFC300\", n_colors=11),\n",
    "                palette=\"YlOrRd\",\n",
    "                hue=\"Lawsonite dG\",\n",
    "                s=50,\n",
    "                marker=\"D\",\n",
    "                label=\"Lawsonite dG [J]\",\n",
    "                ax=axs)\n",
    "\n",
    "sns.scatterplot(data=laws_in_MORB_fract,\n",
    "                x=\"Temperature\",\n",
    "                y=\"Pressure_kbar\",\n",
    "                hue=\"Lawsonite vol %\",\n",
    "                s=100,\n",
    "                label=\"Lawsonite vol %\",\n",
    "                ax=axs)\n",
    "\n",
    "axs.set_xlabel(\"Temperature [°C]\")\n",
    "axs.set_ylabel(\"Pressure [kbar]\")\n",
    "\n",
    "axs.legend(bbox_to_anchor=(1.05, 1), frameon=False)\n",
    "\n",
    "axs.set_frame_on(False)\n",
    "\n",
    "fig.tight_layout()\n",
    "\n",
    "plt.show()"
   ]
  },
  {
   "attachments": {},
   "cell_type": "markdown",
   "metadata": {},
   "source": [
    "### Plotting: Mineral volume along P-T-path"
   ]
  },
  {
   "cell_type": "code",
   "execution_count": null,
   "metadata": {},
   "outputs": [],
   "source": []
  }
 ],
 "metadata": {
  "kernelspec": {
   "display_name": "pytheriak",
   "language": "python",
   "name": "python3"
  },
  "language_info": {
   "codemirror_mode": {
    "name": "ipython",
    "version": 3
   },
   "file_extension": ".py",
   "mimetype": "text/x-python",
   "name": "python",
   "nbconvert_exporter": "python",
   "pygments_lexer": "ipython3",
   "version": "3.10.9"
  },
  "orig_nbformat": 4
 },
 "nbformat": 4,
 "nbformat_minor": 2
}
