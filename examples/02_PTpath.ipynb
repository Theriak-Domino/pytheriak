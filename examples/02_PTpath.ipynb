{
 "cells": [
  {
   "attachments": {},
   "cell_type": "markdown",
   "metadata": {},
   "source": [
    "# **02 Model evolution along a *P*–*T*-path**\n",
    "---\n",
    "\n",
    "This notebook shows you how to:\n",
    "1. Model the system evolution of a rock along a predefined *P*–*T*-trajectory, by:\n",
    "    * Automatically calling repeated Theriak minimisations.\n",
    "    * Forwarding of bulk rock composition.\n",
    "2. Visualisation of mineral modes an compostion as a function of *P* and *T*.\n",
    "3. Fractionated phases for modelling along a *P*–*T*-path with evolving reactive bulk rock composition.\n",
    "\n",
    "**Requirements:**\n",
    "- python >= 3.10\n",
    "*with the following packages installed:*\n",
    "- pytheriak\n",
    "- matplotlib\n",
    "- ...\n",
    "\n",
    "*Theriak-Domino back-end:*\n",
    "- A working Theriak-Domino installation.\n",
    "- Thermodynamic databases to use with Theriak in the working directory.\n",
    "---"
   ]
  },
  {
   "attachments": {},
   "cell_type": "markdown",
   "metadata": {},
   "source": [
    "### Import all required libraries."
   ]
  },
  {
   "cell_type": "code",
   "execution_count": 1,
   "metadata": {},
   "outputs": [],
   "source": [
    "import numpy as np\n",
    "import pandas as pd\n",
    "import matplotlib.pyplot as plt\n",
    "import seaborn as sns\n",
    "from pathlib import Path\n",
    "from pytheriak import wrapper"
   ]
  },
  {
   "attachments": {},
   "cell_type": "markdown",
   "metadata": {},
   "source": [
    "### Initiate a TherCaller-object.\n",
    "The argument `programs_dir` must be set to the directory of your Theriak_Domino installation."
   ]
  },
  {
   "cell_type": "code",
   "execution_count": 2,
   "metadata": {},
   "outputs": [],
   "source": [
    "theriak = wrapper.TherCaller(programs_dir=\"C:\\\\TheriakDominoWIN\\\\Programs\",\n",
    "                             database=\"ds55HPT.txt\",\n",
    "                             theriak_version=\"v28.05.2022\")"
   ]
  },
  {
   "attachments": {},
   "cell_type": "markdown",
   "metadata": {},
   "source": [
    "### Set model parameter\n",
    "*P*–*T*-path from Gerya et al. (2002) in Vho et al. (2020) Fig. 2 (https://doi.org/10.5194/se-11-307-2020).\\\n",
    "*Bulk rock composition from Plank and Langmuir (1998) in Vho et al. (2020) (https://doi.org/10.5194/se-11-307-2020).*\n"
   ]
  },
  {
   "cell_type": "code",
   "execution_count": 12,
   "metadata": {},
   "outputs": [],
   "source": [
    "pt_path = np.loadtxt(Path(\"PTpath_Gerya2002.txt\")).T\n",
    "# chnage to bulk from Vho et al 2020\n",
    "bulk = \"SI(68.2)TI(0.76)AL(25.18)FE(9.96)MN(0.02)MG(4.36)CA(0.18)NA(0.06)K(7.74)H(10)O(?)\""
   ]
  },
  {
   "cell_type": "code",
   "execution_count": 13,
   "metadata": {},
   "outputs": [
    {
     "name": "stdout",
     "output_type": "stream",
     "text": [
      "WARNING: No fluid phase stable at given P-T-X. Water-sat. conditions not fulfilled.\n",
      "WARNING: No fluid phase stable at given P-T-X. Water-sat. conditions not fulfilled.\n",
      "WARNING: No fluid phase stable at given P-T-X. Water-sat. conditions not fulfilled.\n",
      "WARNING: No fluid phase stable at given P-T-X. Water-sat. conditions not fulfilled.\n",
      "WARNING: No fluid phase stable at given P-T-X. Water-sat. conditions not fulfilled.\n",
      "WARNING: No fluid phase stable at given P-T-X. Water-sat. conditions not fulfilled.\n",
      "WARNING: No fluid phase stable at given P-T-X. Water-sat. conditions not fulfilled.\n",
      "WARNING: No fluid phase stable at given P-T-X. Water-sat. conditions not fulfilled.\n",
      "WARNING: No fluid phase stable at given P-T-X. Water-sat. conditions not fulfilled.\n",
      "WARNING: No fluid phase stable at given P-T-X. Water-sat. conditions not fulfilled.\n",
      "WARNING: No fluid phase stable at given P-T-X. Water-sat. conditions not fulfilled.\n",
      "WARNING: No fluid phase stable at given P-T-X. Water-sat. conditions not fulfilled.\n",
      "WARNING: No fluid phase stable at given P-T-X. Water-sat. conditions not fulfilled.\n",
      "WARNING: No fluid phase stable at given P-T-X. Water-sat. conditions not fulfilled.\n",
      "WARNING: No fluid phase stable at given P-T-X. Water-sat. conditions not fulfilled.\n",
      "WARNING: No fluid phase stable at given P-T-X. Water-sat. conditions not fulfilled.\n",
      "WARNING: No fluid phase stable at given P-T-X. Water-sat. conditions not fulfilled.\n",
      "WARNING: No fluid phase stable at given P-T-X. Water-sat. conditions not fulfilled.\n"
     ]
    }
   ],
   "source": [
    "mineral_assemblage_list = []\n",
    "\n",
    "for temperature, pressure in pt_path:\n",
    "    rock, element_list = theriak.minimisation(pressure, temperature, bulk, return_failed_minimisation=True)\n",
    "    mineral_assemblage_list.append(rock.mineral_assemblage)"
   ]
  },
  {
   "cell_type": "code",
   "execution_count": 21,
   "metadata": {},
   "outputs": [
    {
     "data": {
      "text/plain": [
       "[['WM02_mu', 'GT07W2_alm', 'BIOTI_obi', 'ky', 'mic', 'q', 'ru'],\n",
       " ['WM02_mu', 'GT07W2_alm', 'BIOTI_obi', 'ky', 'mic', 'q', 'ru'],\n",
       " ['WM02_mu', 'GT07W2_alm', 'BIOTI_obi', 'ky', 'mic', 'q', 'ru']]"
      ]
     },
     "execution_count": 21,
     "metadata": {},
     "output_type": "execute_result"
    }
   ],
   "source": [
    "mineral_names = [[mineral.name for mineral in mineral_assemblage] for mineral_assemblage  in mineral_assemblage_list]\n",
    "mineral_names[0:3]"
   ]
  },
  {
   "cell_type": "code",
   "execution_count": 23,
   "metadata": {},
   "outputs": [
    {
     "data": {
      "text/plain": [
       "[[22.6212, 16.2924, 10.5029, 4.8195, 12.4651, 32.8321, 0.4667],\n",
       " [24.6232, 17.6778, 8.2195, 4.1358, 12.6259, 32.2242, 0.4937],\n",
       " [26.9243, 19.2789, 5.518, 3.3865, 12.876, 31.4803, 0.536]]"
      ]
     },
     "execution_count": 23,
     "metadata": {},
     "output_type": "execute_result"
    }
   ],
   "source": [
    "mineral_modes = [[mineral.vol_percent for mineral in mineral_assemblage] for mineral_assemblage  in mineral_assemblage_list]\n",
    "mineral_modes[0:3]"
   ]
  },
  {
   "cell_type": "code",
   "execution_count": 20,
   "metadata": {},
   "outputs": [
    {
     "data": {
      "text/plain": [
       "[{'mu': 0.796626, 'pa': 0.313446, 'cel': 0.0661045, 'fcel': 0.0187337},\n",
       " {'alm': 0.654021, 'py': 0.00217107, 'gr': 0.000217685, 'spss': 8.40682e-09},\n",
       " {'phl': 0.198932,\n",
       "  'ann': 0.0266945,\n",
       "  'obi': 0.378393,\n",
       "  'east': 0.0147268,\n",
       "  'tbi': 0.000641722,\n",
       "  'mnbi': 2.54908e-16}]"
      ]
     },
     "execution_count": 20,
     "metadata": {},
     "output_type": "execute_result"
    }
   ],
   "source": [
    "mineral_em_act = [[mineral.endmember_activities for mineral in mineral_assemblage if mineral.solution_phase] for mineral_assemblage  in mineral_assemblage_list]\n",
    "mineral_em_act[0]"
   ]
  },
  {
   "cell_type": "code",
   "execution_count": null,
   "metadata": {},
   "outputs": [],
   "source": [
    "fig, ax = plt.subplots()\n",
    "\n"
   ]
  }
 ],
 "metadata": {
  "kernelspec": {
   "display_name": "pytheriak",
   "language": "python",
   "name": "python3"
  },
  "language_info": {
   "codemirror_mode": {
    "name": "ipython",
    "version": 3
   },
   "file_extension": ".py",
   "mimetype": "text/x-python",
   "name": "python",
   "nbconvert_exporter": "python",
   "pygments_lexer": "ipython3",
   "version": "3.10.9"
  },
  "orig_nbformat": 4
 },
 "nbformat": 4,
 "nbformat_minor": 2
}
