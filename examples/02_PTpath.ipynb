{
 "cells": [
  {
   "attachments": {},
   "cell_type": "markdown",
   "metadata": {},
   "source": [
    "# **02 Model evolution along a *P*–*T*-path**\n",
    "---\n",
    "\n",
    "This notebook shows you how to:\n",
    "1. Model the system evolution of a rock along a predefined *P*–*T*-trajectory, by:\n",
    "    * Automatically calling repeated Theriak minimisations.\n",
    "2. Visualisation of mineral modes (volume %) and $\\Delta G$ as a function of *P* and *T*.\n",
    "3. Start to adapt more complex modelling strategies including porphyroblast fractionation.\\\n",
    "    *simulating two different behaviors:*\n",
    "    * Complete inertisation for garnet crystallisation.\n",
    "    * Inherited resorption upon complete break-down for lawsonite.\n",
    "\n",
    "The main aim of this notebook is to showcase how pytheriak can be used to implement increasingly complex petrogenetic models.\n",
    "\n",
    "**Requirements:**\n",
    "- python >= 3.10\n",
    "*with the following packages installed:*\n",
    "- pytheriak\n",
    "- matplotlib\n",
    "- seaborn\n",
    "- pandas\n",
    "\n",
    "*Theriak-Domino back-end:*\n",
    "- A working Theriak-Domino installation.\n",
    "- theriak.ini file in the working directory.\n",
    "- Thermodynamic databases to use with Theriak in the working directory.\n",
    "---"
   ]
  },
  {
   "attachments": {},
   "cell_type": "markdown",
   "metadata": {},
   "source": [
    "### Import all required libraries."
   ]
  },
  {
   "cell_type": "code",
   "execution_count": 1,
   "metadata": {},
   "outputs": [],
   "source": [
    "import numpy as np\n",
    "import pandas as pd\n",
    "import matplotlib.pyplot as plt\n",
    "import seaborn as sns\n",
    "from pathlib import Path\n",
    "from pytheriak import wrapper"
   ]
  },
  {
   "attachments": {},
   "cell_type": "markdown",
   "metadata": {},
   "source": [
    "### Initiate a TherCaller-object.\n",
    "The argument `programs_dir` must be set to the directory of your Theriak-Domino installation.\\\n",
    "The `database`-file (`\"td-ds62-mb50-v07.txt\"`) must be in your working directory, alongside this jupyter notebook. Get this database from [Databases](https://github.com/Theriak-Domino/Databases) on github.\\\n",
    "The Theriak-Domino database `\"td-ds62-mb50-v07.txt\"` is based on the Holland and Powell (2011, https://doi.org/10.1111/j.1525-1314.2010.00923.x) updated thermodynamic dataset file with accompanying solution models for metabasites."
   ]
  },
  {
   "cell_type": "code",
   "execution_count": 2,
   "metadata": {},
   "outputs": [],
   "source": [
    "theriak = wrapper.TherCaller(programs_dir=\"C:\\\\TheriakDominoWIN\\\\Programs\",\n",
    "                             database=\"td-ds62-mb50-v07.txt\",\n",
    "                             theriak_version=\"v2023.03.06\")"
   ]
  },
  {
   "attachments": {},
   "cell_type": "markdown",
   "metadata": {},
   "source": [
    "### Set model parameter\n",
    "*P*–*T*-path from Gerya et al. (2002) in Vho et al. Fig. 2 (2020, https://doi.org/10.5194/se-11-307-2020).\\\n",
    "The *P*–*T*-path was digitized using the ***Pathfinder***-module written by Thorsten Markmann (2023, unpubl.).\\\n",
    "\\\n",
    "Bulk rock compositions of metabasalt (MORB, AOC) in Vho et al. (2020, https://doi.org/10.5194/se-11-307-2020).\\\n",
    "An amount of excess oxygen `\"O(0.2)\"` is added given the presence of Fe(III) and Fe(II) in metabasalts."
   ]
  },
  {
   "cell_type": "code",
   "execution_count": 3,
   "metadata": {},
   "outputs": [],
   "source": [
    "pt_path = np.loadtxt(Path(\"PTpath_Gerya2002.txt\")).T\n",
    "bulk_MORB = \"SI(44.78)TI(1.12)AL(15.37)FE(7.74)MN(0.00)MG(10.03)CA(10.83)NA(4.80)K(0.18)H(30.64)O(?)O(0.2)\"\n",
    "bulk_AOC = \"SI(41.37)TI(0.76)AL(16.54)FE(4.76)MN(0.00)MG(8.97)CA(12.46)NA(3.61)K(0.64)H(35.28)O(?)O(0.2)\"\n",
    "\n",
    "# change this to see the effect of different bulk compositions\n",
    "bulk_input = bulk_AOC"
   ]
  },
  {
   "attachments": {},
   "cell_type": "markdown",
   "metadata": {},
   "source": [
    "Create lists to store the data we want to track along the *P*–*T*-path.\\\n",
    "In this example we are interested in the modal abundance of lawsonite. Beyond the lawsonite stability field, we track the $\\Delta G$ to equilibrium of lawsonite."
   ]
  },
  {
   "cell_type": "code",
   "execution_count": 4,
   "metadata": {},
   "outputs": [],
   "source": [
    "lawsonite_stable = []\n",
    "lawsonite_vol_percent = []\n",
    "lawsonite_dG = []\n",
    "# to have complete data, store all rocks along PT path\n",
    "rocks = []"
   ]
  },
  {
   "attachments": {},
   "cell_type": "markdown",
   "metadata": {},
   "source": [
    "Loop over temperature and pressure pairs in `pt_path`.\\\n",
    "For every *P*–*T*-point `theriak.minimisation()` is called. Lawsonite stability is checked by looking for `\"law\"` in `mineral_assemblage`.\\\n",
    "If lawsonite is stable we save the modal abundance of lawsonite in `lawsonite_vol_percent`. Otherwise we save the $\\Delta G$ to equilibrium of lawsonite in `lawsonite_dG`.\n",
    "\n",
    "This model setup assumes complete re-equilibration of the system at every *P*–*T*-point."
   ]
  },
  {
   "cell_type": "code",
   "execution_count": 5,
   "metadata": {},
   "outputs": [],
   "source": [
    "for temperature, pressure in pt_path:\n",
    "    rock, element_list = theriak.minimisation(pressure, temperature, bulk_input, return_failed_minimisation=True)\n",
    "\n",
    "    # look for lawsonite in the names of the mineral assemblage\n",
    "    mineral_names = [mineral.name for mineral in rock.mineral_assemblage]\n",
    "    law_stable = \"law\" in mineral_names\n",
    "    # when \"law\" is in the list of mineral names, it is stable\n",
    "    lawsonite_stable.append(law_stable)\n",
    "\n",
    "    # if lawsonite is stable, store its volume percent, delta G is None in that case\n",
    "    if law_stable:\n",
    "        law_idx = mineral_names.index(\"law\")\n",
    "        lawsonite_vol_percent.append(rock.mineral_assemblage[law_idx].vol_percent)\n",
    "        lawsonite_dG.append(None)\n",
    "    # if lawsonite is not stable, store its delta G, volume percent is None in that case\n",
    "    else:\n",
    "        lawsonite_vol_percent.append(None)\n",
    "        lawsonite_dG.append(rock.mineral_delta_G[\"law\"])\n",
    "\n",
    "    rocks.append(rock)"
   ]
  },
  {
   "attachments": {},
   "cell_type": "markdown",
   "metadata": {},
   "source": [
    "Warnings, that water saturated conditions are not attained, might show up for the first *P*–*T*-points. In this cases liquid $\\text{H}_{2}\\text{O}$ is not a stable phase. The bulk is defined, so that saturation is given at 350 °C and 1.3 GPa (Vho et al., 2020).\\\n",
    "Note that these warnings can be turned off, by setting `wrapper.TherCaller(*args, verbose=False)`."
   ]
  },
  {
   "attachments": {},
   "cell_type": "markdown",
   "metadata": {},
   "source": [
    "All the data lists, pressure, and temperature are combined into a `pd.DataFrame`."
   ]
  },
  {
   "cell_type": "code",
   "execution_count": 6,
   "metadata": {},
   "outputs": [],
   "source": [
    "laws_in_MORB = pd.DataFrame({\"Temperature\": pt_path[:, 0],\n",
    "                             \"Pressure\": pt_path[:, 1],\n",
    "                             \"Pressure_kbar\": pt_path[:, 1] / 1000,\n",
    "                             \"Lawsonite stable\": lawsonite_stable,\n",
    "                             \"Lawsonite vol %\": lawsonite_vol_percent,\n",
    "                             \"Lawsonite dG\": lawsonite_dG})"
   ]
  },
  {
   "attachments": {},
   "cell_type": "markdown",
   "metadata": {},
   "source": [
    "A DataFrame allows data visualisation in a user-friendly spreadsheet-like style.\n",
    "Look at the first and last entries with `head()` and `tails()`."
   ]
  },
  {
   "cell_type": "code",
   "execution_count": 7,
   "metadata": {},
   "outputs": [
    {
     "data": {
      "text/html": [
       "<div>\n",
       "<style scoped>\n",
       "    .dataframe tbody tr th:only-of-type {\n",
       "        vertical-align: middle;\n",
       "    }\n",
       "\n",
       "    .dataframe tbody tr th {\n",
       "        vertical-align: top;\n",
       "    }\n",
       "\n",
       "    .dataframe thead th {\n",
       "        text-align: right;\n",
       "    }\n",
       "</style>\n",
       "<table border=\"1\" class=\"dataframe\">\n",
       "  <thead>\n",
       "    <tr style=\"text-align: right;\">\n",
       "      <th></th>\n",
       "      <th>Temperature</th>\n",
       "      <th>Pressure</th>\n",
       "      <th>Pressure_kbar</th>\n",
       "      <th>Lawsonite stable</th>\n",
       "      <th>Lawsonite vol %</th>\n",
       "      <th>Lawsonite dG</th>\n",
       "    </tr>\n",
       "  </thead>\n",
       "  <tbody>\n",
       "    <tr>\n",
       "      <th>0</th>\n",
       "      <td>350.000</td>\n",
       "      <td>12965.204236</td>\n",
       "      <td>12.965204</td>\n",
       "      <td>True</td>\n",
       "      <td>36.1211</td>\n",
       "      <td>NaN</td>\n",
       "    </tr>\n",
       "    <tr>\n",
       "      <th>1</th>\n",
       "      <td>373.625</td>\n",
       "      <td>14417.549168</td>\n",
       "      <td>14.417549</td>\n",
       "      <td>True</td>\n",
       "      <td>36.1946</td>\n",
       "      <td>NaN</td>\n",
       "    </tr>\n",
       "    <tr>\n",
       "      <th>2</th>\n",
       "      <td>398.125</td>\n",
       "      <td>15930.408472</td>\n",
       "      <td>15.930408</td>\n",
       "      <td>True</td>\n",
       "      <td>36.2690</td>\n",
       "      <td>NaN</td>\n",
       "    </tr>\n",
       "    <tr>\n",
       "      <th>3</th>\n",
       "      <td>420.000</td>\n",
       "      <td>16777.609682</td>\n",
       "      <td>16.777610</td>\n",
       "      <td>True</td>\n",
       "      <td>36.2341</td>\n",
       "      <td>NaN</td>\n",
       "    </tr>\n",
       "    <tr>\n",
       "      <th>4</th>\n",
       "      <td>439.250</td>\n",
       "      <td>17534.039334</td>\n",
       "      <td>17.534039</td>\n",
       "      <td>True</td>\n",
       "      <td>36.2043</td>\n",
       "      <td>NaN</td>\n",
       "    </tr>\n",
       "  </tbody>\n",
       "</table>\n",
       "</div>"
      ],
      "text/plain": [
       "   Temperature      Pressure  Pressure_kbar  Lawsonite stable  \\\n",
       "0      350.000  12965.204236      12.965204              True   \n",
       "1      373.625  14417.549168      14.417549              True   \n",
       "2      398.125  15930.408472      15.930408              True   \n",
       "3      420.000  16777.609682      16.777610              True   \n",
       "4      439.250  17534.039334      17.534039              True   \n",
       "\n",
       "   Lawsonite vol %  Lawsonite dG  \n",
       "0          36.1211           NaN  \n",
       "1          36.1946           NaN  \n",
       "2          36.2690           NaN  \n",
       "3          36.2341           NaN  \n",
       "4          36.2043           NaN  "
      ]
     },
     "execution_count": 7,
     "metadata": {},
     "output_type": "execute_result"
    }
   ],
   "source": [
    "laws_in_MORB.head()"
   ]
  },
  {
   "cell_type": "code",
   "execution_count": 8,
   "metadata": {},
   "outputs": [
    {
     "data": {
      "text/html": [
       "<div>\n",
       "<style scoped>\n",
       "    .dataframe tbody tr th:only-of-type {\n",
       "        vertical-align: middle;\n",
       "    }\n",
       "\n",
       "    .dataframe tbody tr th {\n",
       "        vertical-align: top;\n",
       "    }\n",
       "\n",
       "    .dataframe thead th {\n",
       "        text-align: right;\n",
       "    }\n",
       "</style>\n",
       "<table border=\"1\" class=\"dataframe\">\n",
       "  <thead>\n",
       "    <tr style=\"text-align: right;\">\n",
       "      <th></th>\n",
       "      <th>Temperature</th>\n",
       "      <th>Pressure</th>\n",
       "      <th>Pressure_kbar</th>\n",
       "      <th>Lawsonite stable</th>\n",
       "      <th>Lawsonite vol %</th>\n",
       "      <th>Lawsonite dG</th>\n",
       "    </tr>\n",
       "  </thead>\n",
       "  <tbody>\n",
       "    <tr>\n",
       "      <th>13</th>\n",
       "      <td>619.500</td>\n",
       "      <td>23464.447806</td>\n",
       "      <td>23.464448</td>\n",
       "      <td>False</td>\n",
       "      <td>NaN</td>\n",
       "      <td>442.011</td>\n",
       "    </tr>\n",
       "    <tr>\n",
       "      <th>14</th>\n",
       "      <td>640.500</td>\n",
       "      <td>24069.591528</td>\n",
       "      <td>24.069592</td>\n",
       "      <td>False</td>\n",
       "      <td>NaN</td>\n",
       "      <td>1187.490</td>\n",
       "    </tr>\n",
       "    <tr>\n",
       "      <th>15</th>\n",
       "      <td>662.375</td>\n",
       "      <td>24765.506808</td>\n",
       "      <td>24.765507</td>\n",
       "      <td>False</td>\n",
       "      <td>NaN</td>\n",
       "      <td>2053.380</td>\n",
       "    </tr>\n",
       "    <tr>\n",
       "      <th>16</th>\n",
       "      <td>681.625</td>\n",
       "      <td>25340.393343</td>\n",
       "      <td>25.340393</td>\n",
       "      <td>False</td>\n",
       "      <td>NaN</td>\n",
       "      <td>2869.700</td>\n",
       "    </tr>\n",
       "    <tr>\n",
       "      <th>17</th>\n",
       "      <td>700.000</td>\n",
       "      <td>25975.794251</td>\n",
       "      <td>25.975794</td>\n",
       "      <td>False</td>\n",
       "      <td>NaN</td>\n",
       "      <td>3541.610</td>\n",
       "    </tr>\n",
       "  </tbody>\n",
       "</table>\n",
       "</div>"
      ],
      "text/plain": [
       "    Temperature      Pressure  Pressure_kbar  Lawsonite stable  \\\n",
       "13      619.500  23464.447806      23.464448             False   \n",
       "14      640.500  24069.591528      24.069592             False   \n",
       "15      662.375  24765.506808      24.765507             False   \n",
       "16      681.625  25340.393343      25.340393             False   \n",
       "17      700.000  25975.794251      25.975794             False   \n",
       "\n",
       "    Lawsonite vol %  Lawsonite dG  \n",
       "13              NaN       442.011  \n",
       "14              NaN      1187.490  \n",
       "15              NaN      2053.380  \n",
       "16              NaN      2869.700  \n",
       "17              NaN      3541.610  "
      ]
     },
     "execution_count": 8,
     "metadata": {},
     "output_type": "execute_result"
    }
   ],
   "source": [
    "laws_in_MORB.tail()"
   ]
  },
  {
   "attachments": {},
   "cell_type": "markdown",
   "metadata": {},
   "source": [
    "### **Plotting I:** Modal abundance and $\\Delta G$ to equilibrium of lawsonite in a *P*–*T*-diagram.\n",
    "\n",
    "The `seaborn` library is used for plotting."
   ]
  },
  {
   "cell_type": "code",
   "execution_count": 9,
   "metadata": {},
   "outputs": [
    {
     "data": {
      "image/png": "[encoded data removed]",
      "text/plain": [
       "<Figure size 640x480 with 1 Axes>"
      ]
     },
     "metadata": {},
     "output_type": "display_data"
    }
   ],
   "source": [
    "fig, axs = plt.subplots()\n",
    "\n",
    "sns.scatterplot(data=laws_in_MORB,\n",
    "                x=\"Temperature\",\n",
    "                y=\"Pressure_kbar\",\n",
    "                hue=\"Lawsonite vol %\",\n",
    "                s=100,\n",
    "                label=\"Lawsonite vol %\",\n",
    "                ax=axs)\n",
    "\n",
    "sns.scatterplot(data=laws_in_MORB,\n",
    "                x=\"Temperature\",\n",
    "                y=\"Pressure_kbar\",\n",
    "                palette=\"YlOrRd\",\n",
    "                hue=\"Lawsonite dG\",\n",
    "                s=80,\n",
    "                marker=\"D\",\n",
    "                label=\"Lawsonite $\\Delta$G [J]\",\n",
    "                ax=axs)\n",
    "\n",
    "axs.set_xlabel(\"Temperature [°C]\")\n",
    "axs.set_ylabel(\"Pressure [kbar]\")\n",
    "\n",
    "axs.legend(bbox_to_anchor=(1.05, 1), frameon=False)\n",
    "\n",
    "axs.set_frame_on(False)\n",
    "\n",
    "fig.tight_layout()\n",
    "\n",
    "plt.show()"
   ]
  },
  {
   "attachments": {},
   "cell_type": "markdown",
   "metadata": {},
   "source": [
    "## **Updated modelling strategy: Porphyroblast fractionation**\n",
    "\n",
    "Petrography of lawsonite-bearing blueschists and eclogites shows that lawsonite and garnet often form large porphyroblasts. Equilibration of such porphyroblasts with the matrix is inhibited, as indicated by major-element compositional zoning in these minerals. The elements bound in garnet and lawsonite are therefore effectively removed from the reactive bulk rock composition.\\\n",
    "To account for this in our model we must modify the above code. After each *P*–*T*-step the elements bound in garnet and lawsonite should be removed from the bulk to obtain a updated reactive bulk rock composition.\\\n",
    "We want to account for two different behaviors:\n",
    "1. **Garnet** is assumed to be very robust against resorption and thus effectively inert. All crystallised garnet is non-reversibly removed from the reactive bulk rock composition.\n",
    "2. **Lawsonite** resorption is assumed to be kinetically inhibited as long as lawsonite is stable in the rock. Upon complete breakdown of lawsonite, all elements bound in lawsonite are added back to the reactive bulk rock composition. This should mimic the observations of euhedral lawsonite porphyroblasts even in pseudomorphic replacements.\n",
    "\n",
    "To model *Case 2: Lawsonite* at every *P*–*T*-step the stability of lawsonite is checked for a reactive bulk with fractionated and re-equilibrated lawsonite. If lawsonite is predicted stable in either of the two cases, it is treated as fractionated porphyroblast. Only if both cases predict lawsonite to be unstable, the elements bound in lawsonite are added back to the reactive bulk rock composition."
   ]
  },
  {
   "attachments": {},
   "cell_type": "markdown",
   "metadata": {},
   "source": [
    "To simulate fractionation of the bulk composition the `input_bulk` (`str`) for `theriak.minimisation()` must be modified.\\\n",
    "For this purpose, a new function `bulk_from_compositionalvector()` is defined. This function can generate a `input_bulk`-string from a compositional vector (`Rock.bulk_composition_moles`) and the `element_list`.\n",
    "\n",
    "For simulating the fractionation the compositional vector `Mineral.composition_moles` can be subtracted from compositional vector `Rock.bulk_composition_moles`."
   ]
  },
  {
   "cell_type": "code",
   "execution_count": 10,
   "metadata": {},
   "outputs": [],
   "source": [
    "def bulk_from_compositionalvector(composition: list | np.ndarray, element_list: list | np.ndarray):\n",
    "    bulk = \"\"\n",
    "    for moles, element in zip(composition, element_list):\n",
    "        bulk += element\n",
    "        bulk += \"(\" + str(moles) + \")\"\n",
    "\n",
    "    return bulk"
   ]
  },
  {
   "attachments": {},
   "cell_type": "markdown",
   "metadata": {},
   "source": [
    "Create lists to store the data we want to track along the *P*–*T*-path.\\\n",
    "An additonal list `lawsonite_restable_fract` is introduced to keep track of the scenario, where lawsonite is not-stable in the fractionated system, but would be re-stabilised in the refertilised system.\n",
    "\n",
    "Since the total system volume is no longer equal to the reacting system volume an additional list `reactive_vol_fract` is defined. The latest reactive volume fraction from that list ($F_{reactive}$) is then used to approximate the modal abundance of lawsonite ($vol\\%^{total}_{lws}$) and garnet ($vol\\%^{total}_{grt}$) calculated at each *P*–*T*-step for the reactive bulk with respect to the total system:\n",
    "\n",
    "$vol\\%^{total}_i = vol\\%^{reactive}_i \\cdot F_{reactive}$\n",
    "\n",
    "The reactive volume fraction is updated at each *P*–*T*-step: $F_{reactive,\\ t+1} = F_{reactive,\\ t} - \\frac{vol\\%^{total}_{lws}}{100} - \\frac{vol\\%^{total}_{grt}}{100}$.\\\n",
    "All these lists taking care of the systems volume are initialised with starting values for the first *P*–*T*-step.\n",
    "\n",
    "For the fractionation of the bulk composition `np.ndarrays` tracking the compositional vectors in absolute moles for the reactive bulk rock (`reactive_bulk_moles`), lawsonite (`lawsonite_moles`), and garnet (`garnet_moles`) are defined.\\\n",
    "The reactive bulk rock composition ($\\vec{C}_{bulk}$) is updated after each *P*–*T*-step by subtracting the compositional vector of the fractionated lawsonite ($\\vec{C}_{lws}$) and garnet ($\\vec{C}_{grt}$) from the reactive bulk rock composition:\n",
    "\n",
    "($\\vec{C}_{bulk,\\ t+1} = \\vec{C}_{bulk,\\ t} - \\vec{C}_{lws} - \\vec{C}_{grt}$)\n",
    "\n",
    "The reactive bulk rock composition is initialised with the MORB composition used in the previous model setup. While the compositional vectors for lawsonite and garnet are initialised with zeros."
   ]
  },
  {
   "cell_type": "code",
   "execution_count": 11,
   "metadata": {},
   "outputs": [],
   "source": [
    "lawsonite_stable_fract = []\n",
    "lawsonite_restable_fract = []\n",
    "garnet_stable_fract = []\n",
    "\n",
    "lawsonite_dG_fract = []\n",
    "\n",
    "rocks_fract = []\n",
    "\n",
    "# lists to track reacting volume of system with fractionation\n",
    "lawsonite_vol_percent_fract = [0]\n",
    "garnet_vol_percent_fract = [0]\n",
    "reactive_vol_fract = [1]\n",
    "\n",
    "# these arrays take care of the absolute moles for fractionation calculations\n",
    "# initialise with 0\n",
    "lawsonite_moles = np.array([np.zeros(len(element_list))])\n",
    "garnet_moles = np.array([np.zeros(len(element_list))])\n",
    "# initialise with the bulk composition of MORB\n",
    "reactive_bulk_moles = np.array([rocks[0].bulk_composition_moles])"
   ]
  },
  {
   "attachments": {},
   "cell_type": "markdown",
   "metadata": {},
   "source": [
    "Loop over temperature and pressure pairs in `pt_path`.\\\n",
    "For every *P*–*T*-point the following steps are performed:\n",
    "1. New input bulk composition is generated using `bulk_from_compositionalvector()`.\n",
    "2. `theriak.minimisation()` is called.\n",
    "3. Stability of lawsonite is checked for the fractionated bulk rock composition.\n",
    "4. If lawsonite is not stable in the fractionated bulk rock composition, the stability of lawsonite is checked for the refertilised bulk rock composition.\n",
    "5. Garnet is fractionated if stable.\n",
    "6. Depending if lawsonite is stable in either or none of the two cases, it is treated as a fractionated porphyroblast or added back to the reactive bulk rock composition.\n",
    "7. Reactive volume fraction and reactive bulk rock composition are updated."
   ]
  },
  {
   "cell_type": "code",
   "execution_count": 12,
   "metadata": {},
   "outputs": [
    {
     "name": "stdout",
     "output_type": "stream",
     "text": [
      "Lawsonite, got restabilised at 420 °C and 16778 bar\n"
     ]
    }
   ],
   "source": [
    "for temperature, pressure in pt_path:\n",
    "    input_bulk = bulk_from_compositionalvector(reactive_bulk_moles[-1], element_list)\n",
    "\n",
    "    rock, element_list = theriak.minimisation(pressure, temperature, input_bulk, return_failed_minimisation=True)\n",
    "\n",
    "    # look for lawsonite in the names of the mineral assemblage\n",
    "    mineral_names = [mineral.name for mineral in rock.mineral_assemblage]\n",
    "    law_stable = \"law\" in mineral_names\n",
    "\n",
    "    if not law_stable:\n",
    "        # change the input (reactive) bulk to include lawsonite\n",
    "        input_bulk = bulk_from_compositionalvector(reactive_bulk_moles[-1] + lawsonite_moles[-1], element_list)\n",
    "        rock_incl_law, element_list = theriak.minimisation(pressure, temperature, input_bulk, return_failed_minimisation=True)\n",
    "\n",
    "        # look for lawsonite in the names of the mineral assemblage\n",
    "        mineral_names_incl_law = [mineral.name for mineral in rock_incl_law.mineral_assemblage]\n",
    "        law_restable = \"law\" in mineral_names_incl_law\n",
    "\n",
    "        if law_restable:\n",
    "\n",
    "            print(f\"Lawsonite, got restabilised at {temperature:.0f} °C and {pressure:.0f} bar\".format(temperature, pressure))\n",
    "\n",
    "        else:\n",
    "            rock = rock_incl_law\n",
    "            mineral_names = mineral_names_incl_law\n",
    "            reactive_bulk_moles[-1] += lawsonite_moles[-1]\n",
    "\n",
    "        lawsonite_stable_fract.append(law_restable)\n",
    "\n",
    "    else:\n",
    "        lawsonite_stable_fract.append(law_stable)\n",
    "\n",
    "    # look for garnet in the names of the mineral assemblage\n",
    "    # all possible solutions (all starting with \"GRT_\") must be checked\n",
    "    garnet_stable = len([mineral for mineral in mineral_names if mineral.startswith(\"GRT_\")]) > 0\n",
    "    # when \"GRT_\" is in the list of mineral names, it is stable\n",
    "    garnet_stable_fract.append(garnet_stable)\n",
    "\n",
    "    # append data of interest to lists\n",
    "    if garnet_stable:\n",
    "        garnet_idx = mineral_names.index([mineral for mineral in mineral_names if mineral.startswith(\"GRT_\")][0])\n",
    "        garnet_vol_percent = rock.mineral_assemblage[garnet_idx].vol_percent\n",
    "        # correct for fraction of reacting volume\n",
    "        garnet_vol_percent = garnet_vol_percent * reactive_vol_fract[-1]\n",
    "        garnet_vol_percent_fract.append(garnet_vol_percent_fract[-1] + garnet_vol_percent)\n",
    "\n",
    "        # add the moles of garnet to the array\n",
    "        new_garnet_moles = rock.mineral_assemblage[garnet_idx].composition_moles\n",
    "        garnet_moles = np.append(garnet_moles, [new_garnet_moles], axis=0)\n",
    "\n",
    "    else:\n",
    "        garnet_vol_percent = 0\n",
    "        garnet_vol_percent_fract.append(garnet_vol_percent_fract[-1])\n",
    "\n",
    "        garnet_moles = np.append(garnet_moles, [np.zeros(len(element_list))], axis=0)\n",
    "\n",
    "\n",
    "    if law_stable:\n",
    "        law_idx = mineral_names.index(\"law\")\n",
    "        law_vol_percent = rock.mineral_assemblage[law_idx].vol_percent\n",
    "\n",
    "        # correct for fraction of reacting volume\n",
    "        law_vol_percent = law_vol_percent * reactive_vol_fract[-1]\n",
    "        lawsonite_vol_percent_fract.append(lawsonite_vol_percent_fract[-1] + law_vol_percent)\n",
    "\n",
    "        # add the moles of lawsonite to the array\n",
    "        new_lawsonite_moles = rock.mineral_assemblage[law_idx].composition_moles\n",
    "\n",
    "        lawsonite_moles = np.append(lawsonite_moles, [new_lawsonite_moles], axis=0)\n",
    "\n",
    "        lawsonite_dG_fract.append(None)\n",
    "\n",
    "    else:\n",
    "        if law_restable:\n",
    "            lawsonite_vol_percent_fract.append(lawsonite_vol_percent_fract[-1])\n",
    "        else:\n",
    "            lawsonite_vol_percent_fract.append(None)\n",
    "\n",
    "        lawsonite_moles = np.append(lawsonite_moles, [np.zeros(len(element_list))], axis=0)\n",
    "\n",
    "        lawsonite_dG_fract.append(rock.mineral_delta_G[\"law\"])\n",
    "\n",
    "    # update reactive volume\n",
    "    reactive_vol_fract.append(reactive_vol_fract[-1] - law_vol_percent/100 - garnet_vol_percent/100)\n",
    "\n",
    "    # fractionate the bulk composition\n",
    "    reactive_bulk_moles = np.append(reactive_bulk_moles, [reactive_bulk_moles[-1] - lawsonite_moles[-1] - garnet_moles[-1]], axis=0)"
   ]
  },
  {
   "attachments": {},
   "cell_type": "markdown",
   "metadata": {},
   "source": [
    "By adding a print statement in the case of lawsonite only being stable in the refertilised bulk rock composition, we can track the occurrence of that phenomenon. The output of the above cell shows that this occurred once at 1.7 GPa and 420 °C."
   ]
  },
  {
   "attachments": {},
   "cell_type": "markdown",
   "metadata": {},
   "source": [
    "Again, the data lists, pressure and temperature, are combined into a `pd.DataFrame`.\\\n",
    "For lists which have been initialised with a starting value (`lawsonite_vol_percent_fract`, `garnet_vol_percent_fract`), the first entry is removed by slicing `[1:]`."
   ]
  },
  {
   "cell_type": "code",
   "execution_count": 13,
   "metadata": {},
   "outputs": [],
   "source": [
    "laws_in_MORB_fract = pd.DataFrame({\"Temperature\": pt_path[:, 0],\n",
    "                                   \"Pressure\": pt_path[:, 1],\n",
    "                                   \"Pressure_kbar\": pt_path[:, 1] / 1000,\n",
    "                                   \"Lawsonite stable\": lawsonite_stable_fract,\n",
    "                                   \"Lawsonite vol %\": lawsonite_vol_percent_fract[1:],\n",
    "                                   \"Lawsonite dG\": lawsonite_dG_fract,\n",
    "                                   \"Garnet stable\": garnet_stable_fract,\n",
    "                                   \"Garnet vol %\": garnet_vol_percent_fract[1:]})"
   ]
  },
  {
   "attachments": {},
   "cell_type": "markdown",
   "metadata": {},
   "source": [
    "### **Plotting II:** Modal abundance and $\\Delta G$ to equilibrium of lawsonite in a *P*–*T*-diagram.\n",
    "\n",
    "Analogous to above, below plots the results of our updated model using the `seaborn` library."
   ]
  },
  {
   "cell_type": "code",
   "execution_count": 14,
   "metadata": {},
   "outputs": [
    {
     "data": {
      "image/png": "[encoded data removed]",
      "text/plain": [
       "<Figure size 640x480 with 1 Axes>"
      ]
     },
     "metadata": {},
     "output_type": "display_data"
    }
   ],
   "source": [
    "fig, axs = plt.subplots()\n",
    "\n",
    "sns.scatterplot(data=laws_in_MORB_fract,\n",
    "                x=\"Temperature\",\n",
    "                y=\"Pressure_kbar\",\n",
    "                palette=\"YlOrRd\",\n",
    "                hue=\"Lawsonite dG\",\n",
    "                s=50,\n",
    "                marker=\"D\",\n",
    "                label=r\"Lawsonite $\\Delta G$ [J]\",\n",
    "                ax=axs)\n",
    "\n",
    "sns.scatterplot(data=laws_in_MORB_fract,\n",
    "                x=\"Temperature\",\n",
    "                y=\"Pressure_kbar\",\n",
    "                hue=\"Lawsonite vol %\",\n",
    "                s=100,\n",
    "                label=\"Lawsonite vol %\",\n",
    "                ax=axs)\n",
    "\n",
    "axs.set_xlabel(\"Temperature [°C]\")\n",
    "axs.set_ylabel(\"Pressure [kbar]\")\n",
    "\n",
    "axs.legend(bbox_to_anchor=(1.05, 1), frameon=False)\n",
    "\n",
    "axs.set_frame_on(False)\n",
    "\n",
    "fig.tight_layout()\n",
    "\n",
    "plt.show()"
   ]
  },
  {
   "attachments": {},
   "cell_type": "markdown",
   "metadata": {},
   "source": [
    "### **Plotting III:** Mineral volume along P-T-path"
   ]
  },
  {
   "cell_type": "code",
   "execution_count": 15,
   "metadata": {},
   "outputs": [],
   "source": [
    "COLOR_GARNET = \"#900C3F\"\n",
    "COLOR_LAWSONITE = \"#6c97d4\"\n",
    "COLOR_LAWSONITE_FRAC = \"#2e0e8f\""
   ]
  },
  {
   "attachments": {},
   "cell_type": "markdown",
   "metadata": {},
   "source": [
    "Finally, we would like to compare our two modelling strategies.\\\n",
    "For this the modal abundance of lawsonite and $\\Delta G$ after lawsonite breakdown are plotted along the increasing temperature on the *P*–*T*-path. For the fractionating model the modal abundance of garnet is also plotted."
   ]
  },
  {
   "cell_type": "code",
   "execution_count": 16,
   "metadata": {},
   "outputs": [
    {
     "data": {
      "image/png": "[encoded data removed]",
      "text/plain": [
       "<Figure size 900x400 with 2 Axes>"
      ]
     },
     "metadata": {},
     "output_type": "display_data"
    }
   ],
   "source": [
    "fig, axs = plt.subplots(figsize=(9, 4))\n",
    "\n",
    "sns.lineplot(data=laws_in_MORB,\n",
    "             x=\"Temperature\",\n",
    "             y=\"Lawsonite vol %\",\n",
    "             c=COLOR_LAWSONITE,\n",
    "             lw=2,\n",
    "             marker=\"o\",\n",
    "             label=\"Lws\",)\n",
    "\n",
    "sns.lineplot(data=laws_in_MORB_fract,\n",
    "             x=\"Temperature\",\n",
    "             y=\"Lawsonite vol %\",\n",
    "             c=COLOR_LAWSONITE_FRAC,\n",
    "             lw=2,\n",
    "             marker=\"o\",\n",
    "             label=\"Lws (fract)\")\n",
    "\n",
    "sns.lineplot(data=laws_in_MORB_fract,\n",
    "             x=\"Temperature\",\n",
    "             y=\"Garnet vol %\",\n",
    "             c=COLOR_GARNET,\n",
    "             lw=2,\n",
    "             marker=\"o\",\n",
    "             label=\"Grt (fract)\")\n",
    "\n",
    "axs2 = plt.twinx(axs)\n",
    "\n",
    "sns.scatterplot(data=laws_in_MORB,\n",
    "             x=\"Temperature\",\n",
    "             y=\"Lawsonite dG\",\n",
    "             c=COLOR_LAWSONITE,\n",
    "             marker=\"D\",\n",
    "             s=60,\n",
    "             label=\"no fract\",\n",
    "             ax=axs2)\n",
    "\n",
    "sns.scatterplot(data=laws_in_MORB_fract,\n",
    "             x=\"Temperature\",\n",
    "             y=\"Lawsonite dG\",\n",
    "             c=COLOR_LAWSONITE_FRAC,\n",
    "             marker=\"D\",\n",
    "             s=60,\n",
    "             label=\"fract\",\n",
    "             ax=axs2)\n",
    "\n",
    "axs.set_xlabel(\"Temperature [°C]\")\n",
    "axs.set_ylabel(\"Mineral mode [vol %]\")\n",
    "axs2.set_ylabel(r\"Lawsonite $\\Delta$G [J]\")\n",
    "\n",
    "axs.legend(title=\"Mineral mode [vol %]\", bbox_to_anchor=(1.55, 1), frameon=False)\n",
    "axs2.legend(title=r\"Lawsonite $\\Delta$G [J]\", bbox_to_anchor=(1.5, 0.75), frameon=False)\n",
    "\n",
    "axs.set_frame_on(False)\n",
    "axs2.set_frame_on(False)\n",
    "\n",
    "fig.tight_layout()\n",
    "\n",
    "plt.show()"
   ]
  },
  {
   "attachments": {},
   "cell_type": "markdown",
   "metadata": {},
   "source": [
    "Some interesting observations from this comparison:\n",
    "* Lws breakdown occurs at a lower temperature (440 °C) in the model accounting for fractionation of the reactive bulk rock composition.\n",
    "* In the model without any fractionation lawsonite is generally closer to equilibrium after breakdown (smaller $\\Delta G$)."
   ]
  },
  {
   "attachments": {},
   "cell_type": "markdown",
   "metadata": {},
   "source": [
    "This notebook is a basic example on how pytheriak allows to expand a purely equilibrium thermodynamics approach (Theriak-Domino) to a more complex model incorporating some kinetic effects.\\\n",
    "It serves as a starting point for further development of more complex models. Other python codes modelling geodynamics, kinetics, or other processes deliver this complexity with pytheriak providing the link to Theriak-Domino's thermodynamic Gibbs Free Energy minimisation."
   ]
  }
 ],
 "metadata": {
  "kernelspec": {
   "display_name": "pytheriak",
   "language": "python",
   "name": "python3"
  },
  "language_info": {
   "codemirror_mode": {
    "name": "ipython",
    "version": 3
   },
   "file_extension": ".py",
   "mimetype": "text/x-python",
   "name": "python",
   "nbconvert_exporter": "python",
   "pygments_lexer": "ipython3",
   "version": "3.10.9"
  },
  "orig_nbformat": 4
 },
 "nbformat": 4,
 "nbformat_minor": 2
}
