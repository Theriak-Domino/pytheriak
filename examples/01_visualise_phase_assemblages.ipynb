{
 "cells": [
  {
   "attachments": {},
   "cell_type": "markdown",
   "metadata": {},
   "source": [
    "# **01 Visualise phase assemblages**\n",
    "---\n",
    "\n",
    "This notebook shows you how to:\n",
    "1. Call theriak from python with pytheriak.\n",
    "2. Retrieve system parameters, mineral modes and composition from the pytheriak.Rock-object.\n",
    "3. Visualise petrological data with python.🐍\n",
    "\n",
    "**Requirements:**\n",
    "- python >= 3.10\n",
    "*with the following packages installed:*\n",
    "- pytheriak\n",
    "- matplotlib\n",
    "- seaborn\n",
    "- pandas\n",
    "\n",
    "*Theriak-Domino back-end:*\n",
    "- A working Theriak-Domino installation.\n",
    "- theriak.ini file in the working directory.\n",
    "- Thermodynamic databases to use with Theriak in the working directory.\n",
    "---"
   ]
  },
  {
   "attachments": {},
   "cell_type": "markdown",
   "metadata": {},
   "source": [
    "### Import all required libraries."
   ]
  },
  {
   "cell_type": "code",
   "execution_count": 1,
   "metadata": {},
   "outputs": [],
   "source": [
    "import numpy as np\n",
    "import pandas as pd\n",
    "import matplotlib.pyplot as plt\n",
    "import seaborn as sns\n",
    "from pytheriak import wrapper"
   ]
  },
  {
   "attachments": {},
   "cell_type": "markdown",
   "metadata": {},
   "source": [
    "### Initiate a TherCaller-object.\n",
    "The argument `programs_dir` must be set to the directory of your Theriak-Domino installation.\\\n",
    "The `database`-file (`\"ds55HPT.txt\"`) must be in your working directory."
   ]
  },
  {
   "cell_type": "code",
   "execution_count": 2,
   "metadata": {},
   "outputs": [],
   "source": [
    "theriak = wrapper.TherCaller(programs_dir=\"C:\\\\TheriakDominoWIN\\\\Programs\",\n",
    "                             database=\"ds55HPT.txt\",\n",
    "                             theriak_version=\"v2023.03.06\")"
   ]
  },
  {
   "attachments": {},
   "cell_type": "markdown",
   "metadata": {},
   "source": [
    "Define a pressure and temperature of interest.\\\n",
    "Bulk rock corresponds to the global average metapelite from Forshaw and Pattison (2022, https://doi.org/10.1130/G50542.1)."
   ]
  },
  {
   "cell_type": "code",
   "execution_count": 3,
   "metadata": {},
   "outputs": [],
   "source": [
    "pressure = 5000\n",
    "temperature = 550\n",
    "bulk = \"SI(22.84)TI(0.24)AL(7.78)FE(2.04)MN(0.02)MG(1.28)CA(0.25)NA(0.95)K(1.79)H(10)O(?)\""
   ]
  },
  {
   "attachments": {},
   "cell_type": "markdown",
   "metadata": {},
   "source": [
    "Call theriak for the *G*-minimisation at *P* and *T* given."
   ]
  },
  {
   "cell_type": "code",
   "execution_count": 4,
   "metadata": {},
   "outputs": [],
   "source": [
    "rock, element_list = theriak.minimisation(pressure, temperature, bulk)"
   ]
  },
  {
   "attachments": {},
   "cell_type": "markdown",
   "metadata": {},
   "source": [
    "### Examine output."
   ]
  },
  {
   "attachments": {},
   "cell_type": "markdown",
   "metadata": {},
   "source": [
    "`element_list` is a list containing all element names (`str`) present in the modelled bulk rock.\\\n",
    "The index of an element name in this list is a global valid index for all list holding compositional data (mineral-, fluid- and bulk-composition)."
   ]
  },
  {
   "cell_type": "code",
   "execution_count": 5,
   "metadata": {},
   "outputs": [
    {
     "name": "stdout",
     "output_type": "stream",
     "text": [
      "['O', 'AL', 'CA', 'FE', 'H', 'K', 'MN', 'MG', 'NA', 'SI', 'TI']\n",
      "2\n"
     ]
    }
   ],
   "source": [
    "print(element_list)\n",
    "# get the index of an element of interest\n",
    "idx_CA = element_list.index(\"CA\")\n",
    "print(idx_CA)"
   ]
  },
  {
   "attachments": {},
   "cell_type": "markdown",
   "metadata": {},
   "source": [
    "`rock` is a `pytheriak.Rock`-object encapsulating all the state properties of the system at minimal *G*."
   ]
  },
  {
   "cell_type": "code",
   "execution_count": 6,
   "metadata": {},
   "outputs": [
    {
     "name": "stdout",
     "output_type": "stream",
     "text": [
      "<class 'pytheriak.wrapper.Rock'>\n"
     ]
    },
    {
     "data": {
      "text/plain": [
       "['bulk_composition_mol_percent',\n",
       " 'bulk_composition_moles',\n",
       " 'fluid_assemblage',\n",
       " 'g_system',\n",
       " 'g_system_per_mol_of_input',\n",
       " 'mineral_assemblage',\n",
       " 'mineral_delta_G',\n",
       " 'pressure',\n",
       " 'temperature',\n",
       " 'therin_PT',\n",
       " 'therin_bulk']"
      ]
     },
     "execution_count": 6,
     "metadata": {},
     "output_type": "execute_result"
    }
   ],
   "source": [
    "print(type(rock))\n",
    "# use the dir method to check out the objects attributes\n",
    "dir(rock)"
   ]
  },
  {
   "attachments": {},
   "cell_type": "markdown",
   "metadata": {},
   "source": [
    "Access bulk properties such as `g_system`, `bulk_composition_mol_percent`, ..."
   ]
  },
  {
   "cell_type": "code",
   "execution_count": 7,
   "metadata": {},
   "outputs": [
    {
     "data": {
      "text/plain": [
       "-33485518.58"
      ]
     },
     "execution_count": 7,
     "metadata": {},
     "output_type": "execute_result"
    }
   ],
   "source": [
    "rock.g_system   # in Joule"
   ]
  },
  {
   "attachments": {},
   "cell_type": "markdown",
   "metadata": {},
   "source": [
    "Or look into `mineral_assemblage` or `fluid_assemblage`. These lists hold `pytheriak.Phase`-objects with their respective properties."
   ]
  },
  {
   "cell_type": "code",
   "execution_count": 8,
   "metadata": {},
   "outputs": [
    {
     "data": {
      "text/plain": [
       "'PLC1_abh'"
      ]
     },
     "execution_count": 8,
     "metadata": {},
     "output_type": "execute_result"
    }
   ],
   "source": [
    "rock.mineral_assemblage\n",
    "# get the first mineral in the list and check out its name\n",
    "rock.mineral_assemblage[0].name"
   ]
  },
  {
   "attachments": {},
   "cell_type": "markdown",
   "metadata": {},
   "source": [
    "Properties of `pytheriak.Phase`-objects are most efficiently accessed by list comprehensions.\\\n",
    "A very pythonic way to loop over lists in efficient and easy readable manner."
   ]
  },
  {
   "cell_type": "code",
   "execution_count": 9,
   "metadata": {},
   "outputs": [
    {
     "name": "stdout",
     "output_type": "stream",
     "text": [
      "['PLC1_abh', 'WM02_mu', 'BIOTI_ann', 'CHL_daph', 'ILM05b_oilm1', 'q']\n",
      "[8.5925, 28.7976, 13.8059, 8.1373, 0.6119, 40.0548]\n"
     ]
    }
   ],
   "source": [
    "mineral_names = [mineral.name for mineral in rock.mineral_assemblage]\n",
    "mineral_modes = [mineral.vol_percent for mineral in rock.mineral_assemblage]\n",
    "\n",
    "print(mineral_names)\n",
    "print(mineral_modes)"
   ]
  },
  {
   "attachments": {},
   "cell_type": "markdown",
   "metadata": {},
   "source": [
    "Phase composition is a list (representing a compositional vector) with the ordering as defined in the `element_list`. For garnet in the rock we get the following composition:"
   ]
  },
  {
   "cell_type": "code",
   "execution_count": 10,
   "metadata": {},
   "outputs": [
    {
     "name": "stdout",
     "output_type": "stream",
     "text": [
      "['O', 'AL', 'CA', 'FE', 'H', 'K', 'MN', 'MG', 'NA', 'SI', 'TI']\n",
      "[12.0, 1.952457, 0.0, 1.56971, 1.743274, 1.0, 0.008194, 0.817504, 0.0, 2.523771, 0.128363]\n"
     ]
    }
   ],
   "source": [
    "mineral_composition_apfu = [mineral.composition_apfu for mineral in rock.mineral_assemblage]\n",
    "print(element_list)\n",
    "print(mineral_composition_apfu[2])"
   ]
  },
  {
   "attachments": {},
   "cell_type": "markdown",
   "metadata": {},
   "source": [
    "### **Plotting 1:** Phase assemblage"
   ]
  },
  {
   "attachments": {},
   "cell_type": "markdown",
   "metadata": {},
   "source": [
    "Use `matplotlib` to set up a figure and plot a pie diagram of the mineral modes with `ax.pie()`.\\\n",
    "`seaborn` is used to have access to a nice built-in color palette."
   ]
  },
  {
   "cell_type": "code",
   "execution_count": 11,
   "metadata": {},
   "outputs": [
    {
     "data": {
      "image/png": "[encoded data removed]",
      "text/plain": [
       "<Figure size 600x400 with 1 Axes>"
      ]
     },
     "metadata": {},
     "output_type": "display_data"
    }
   ],
   "source": [
    "fig, ax = plt.subplots(figsize=(6, 4))\n",
    "\n",
    "colors = sns.cubehelix_palette(len(mineral_modes))\n",
    "explode = np.repeat(0.04, len(mineral_modes))\n",
    "\n",
    "ax.pie(mineral_modes,\n",
    "       autopct=\"%.1f%%\",\n",
    "       pctdistance=1.2,\n",
    "       colors=colors,\n",
    "       explode=explode)\n",
    "\n",
    "ax.set_aspect(\"equal\")\n",
    "\n",
    "ax.legend(labels=mineral_names, bbox_to_anchor=(1.05, 1), frameon=False)\n",
    "\n",
    "ax.set_title(\"Mineral modes [vol%]\")\n",
    "\n",
    "fig.tight_layout()\n",
    "plt.show()"
   ]
  },
  {
   "attachments": {},
   "cell_type": "markdown",
   "metadata": {},
   "source": [
    "### **Plotting 2:** Element distribution between phases"
   ]
  },
  {
   "attachments": {},
   "cell_type": "markdown",
   "metadata": {},
   "source": [
    "Access the mineral and bulk rock composition in moles and convert them into arrays."
   ]
  },
  {
   "cell_type": "code",
   "execution_count": 12,
   "metadata": {},
   "outputs": [
    {
     "name": "stdout",
     "output_type": "stream",
     "text": [
      "(6, 11)\n",
      "(11,)\n"
     ]
    }
   ],
   "source": [
    "mineral_composition = np.array([mineral.composition_moles for mineral in rock.mineral_assemblage])\n",
    "bulk_composition = np.array(rock.bulk_composition_moles)\n",
    "\n",
    "print(mineral_composition.shape)\n",
    "print(bulk_composition.shape)\n"
   ]
  },
  {
   "attachments": {},
   "cell_type": "markdown",
   "metadata": {},
   "source": [
    "`mineral_composition` is a 6 x 11-matrix, holding the compositional vector (11 elements) of the six stable minerals.\\\n",
    "`bulk_composition` is the compositional vector of the bulk rock.\\\n",
    "Dividing the `mineral_composition`-matrix elementwise with `bulk_composition`-vector results in a 6 x 11-matrix of relative element contribution."
   ]
  },
  {
   "cell_type": "code",
   "execution_count": 13,
   "metadata": {},
   "outputs": [],
   "source": [
    "mineral_composition_rel = mineral_composition / bulk_composition"
   ]
  },
  {
   "attachments": {},
   "cell_type": "markdown",
   "metadata": {},
   "source": [
    "Access the values for iron, magnesium and manganese for all minerals."
   ]
  },
  {
   "cell_type": "code",
   "execution_count": 14,
   "metadata": {},
   "outputs": [],
   "source": [
    "fe = mineral_composition_rel.T[element_list.index(\"FE\")]\n",
    "mg = mineral_composition_rel.T[element_list.index(\"MG\")]\n",
    "mn = mineral_composition_rel.T[element_list.index(\"MN\")]"
   ]
  },
  {
   "attachments": {},
   "cell_type": "markdown",
   "metadata": {},
   "source": [
    "Use `seaborn`'s `sns.barplot()` to plot relative distribution of these elements between the stable minerals."
   ]
  },
  {
   "cell_type": "code",
   "execution_count": 15,
   "metadata": {},
   "outputs": [
    {
     "data": {
      "image/png": "[encoded data removed]",
      "text/plain": [
       "<Figure size 1200x400 with 3 Axes>"
      ]
     },
     "metadata": {},
     "output_type": "display_data"
    }
   ],
   "source": [
    "fig, axs = plt.subplots(1, 3, figsize=(12, 4))\n",
    "\n",
    "# plot Fe-distribution\n",
    "axs[0].tick_params(axis='x', rotation=60)\n",
    "axs[0].set_frame_on(False)\n",
    "axs[0].set_ylim(0, 1)\n",
    "axs[0].set_ylabel(\"Fraction of element in phase\")\n",
    "axs[0].set_title(\"Fe in Phases of bulk Fe\")\n",
    "sns.barplot(x=mineral_names, y=fe, ax=axs[0], palette=sns.color_palette(\"light:#FFC300\"))\n",
    "# plot Mg-distribution\n",
    "axs[1].tick_params(axis='x', rotation=60)\n",
    "axs[1].set_frame_on(False)\n",
    "axs[1].set_ylim(0, 1)\n",
    "axs[1].axes.get_yaxis().set_visible(False)\n",
    "axs[1].set_title(\"Mg in Phases of bulk Mg\")\n",
    "sns.barplot(x=mineral_names, y=mg, ax=axs[1], palette=sns.color_palette(\"light:#FF5733\"))\n",
    "# plot Mn-distribution\n",
    "axs[2].tick_params(axis='x', rotation=60)\n",
    "axs[2].set_frame_on(False)\n",
    "axs[2].set_ylim(0, 1)\n",
    "axs[2].axes.get_yaxis().set_visible(False)\n",
    "axs[2].set_title(\"Mn in Phases of bulk Mn\")\n",
    "sns.barplot(x=mineral_names, y=mn, ax=axs[2], palette=sns.color_palette(\"light:#900C3F\"))\n",
    "\n",
    "fig.tight_layout()\n",
    "plt.show()"
   ]
  }
 ],
 "metadata": {
  "kernelspec": {
   "display_name": "pytheriak",
   "language": "python",
   "name": "python3"
  },
  "language_info": {
   "codemirror_mode": {
    "name": "ipython",
    "version": 3
   },
   "file_extension": ".py",
   "mimetype": "text/x-python",
   "name": "python",
   "nbconvert_exporter": "python",
   "pygments_lexer": "ipython3",
   "version": "3.10.9"
  },
  "orig_nbformat": 4
 },
 "nbformat": 4,
 "nbformat_minor": 2
}
