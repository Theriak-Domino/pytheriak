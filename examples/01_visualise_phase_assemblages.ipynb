{
 "cells": [
  {
   "attachments": {},
   "cell_type": "markdown",
   "metadata": {},
   "source": [
    "# **01 Visualise phase assemblages**\n",
    "---\n",
    "\n",
    "This notebook shows you how to:\n",
    "1. Call theriak from python with pytheriak.\n",
    "2. Retrieve system parameters, mineral modes, and mineral compositions from the pytheriak.Rock-object.\n",
    "3. Visualise petrological data with python.🐍\n",
    "\n",
    "This notebook is tutorial to introduce you to the basic functionality of the pytheriak package.\n",
    "\n",
    "**Requirements:**\n",
    "- python >= 3.10\n",
    "*with the following packages installed:*\n",
    "- pytheriak\n",
    "- matplotlib\n",
    "- seaborn\n",
    "- pandas\n",
    "\n",
    "*Theriak-Domino back-end:*\n",
    "- A working Theriak-Domino installation.\n",
    "- theriak.ini file in the working directory.\n",
    "- Thermodynamic databases to use with Theriak in the working directory.\n",
    "---\n",
    "*Check-out the [Theriak-Domino github repository](https://github.com/Theriak-Domino/theriak-domino) for more information on how to set-up Theriak-Domino.*"
   ]
  },
  {
   "attachments": {},
   "cell_type": "markdown",
   "metadata": {},
   "source": [
    "### Import all required libraries."
   ]
  },
  {
   "cell_type": "code",
   "execution_count": 1,
   "metadata": {},
   "outputs": [],
   "source": [
    "import numpy as np\n",
    "import pandas as pd\n",
    "import matplotlib.pyplot as plt\n",
    "import seaborn as sns\n",
    "from pytheriak import wrapper"
   ]
  },
  {
   "attachments": {},
   "cell_type": "markdown",
   "metadata": {},
   "source": [
    "### Initiate a TherCaller-object.\n",
    "The argument `programs_dir` must be set to the directory of your Theriak-Domino installation.\\\n",
    "The `database`-file (`\"td-ds62-mp50-v05.txt\"`) must be in your working directory, alongside this jupyter notebook. Get the database from [Databases](https://github.com/Theriak-Domino/Databases) on github.\\\n",
    "The Theriak-Domino database `\"td-ds62-mp50-v05.txt\"` is based on the Holland and Powell (2011, https://doi.org/10.1111/j.1525-1314.2010.00923.x) updated thermodynamic dataset file with accompanying solution models for pelites."
   ]
  },
  {
   "cell_type": "code",
   "execution_count": 2,
   "metadata": {},
   "outputs": [],
   "source": [
    "theriak = wrapper.TherCaller(programs_dir=\"C:\\\\TheriakDominoWIN\\\\Programs\",\n",
    "                             database=\"td-ds62-mp50-v05.txt\",\n",
    "                             theriak_version=\"v2023.03.06\")"
   ]
  },
  {
   "attachments": {},
   "cell_type": "markdown",
   "metadata": {},
   "source": [
    "Define a pressure and temperature of interest.\\\n",
    "The bulk rock used here is worldwide median metapelite from Forshaw and Pattison (2023, https://doi.org/10.1130/G50542.1).\\\n",
    "Water is assumed to be in excess and set as `\"H(10)\"`.\\\n",
    "A small amount of excess oxygen `\"O(0.01)\"` has been added to the bulk composition to allow a minor amount of ferric-bearing members to be stable (see https://www.dtinkham.net/peq.html for explanation)."
   ]
  },
  {
   "cell_type": "code",
   "execution_count": 3,
   "metadata": {},
   "outputs": [],
   "source": [
    "pressure = 5000\n",
    "temperature = 580\n",
    "bulk = \"SI(22.84)TI(0.24)AL(7.78)FE(2.04)MN(0.02)MG(1.28)CA(0.25)NA(0.95)K(1.79)H(10)O(?)O(0.01)\""
   ]
  },
  {
   "attachments": {},
   "cell_type": "markdown",
   "metadata": {},
   "source": [
    "Call theriak for the *G*-minimisation at the *P* and *T* of interest."
   ]
  },
  {
   "cell_type": "code",
   "execution_count": 4,
   "metadata": {},
   "outputs": [],
   "source": [
    "rock, element_list = theriak.minimisation(pressure, temperature, bulk)"
   ]
  },
  {
   "attachments": {},
   "cell_type": "markdown",
   "metadata": {},
   "source": [
    "### Examine output."
   ]
  },
  {
   "attachments": {},
   "cell_type": "markdown",
   "metadata": {},
   "source": [
    "`element_list` is a list containing all element names (`str`) present in the modelled bulk rock.\\\n",
    "The index of an element name in this list is a global valid index for all list holding compositional data (mineral-, fluid- and bulk-composition)."
   ]
  },
  {
   "cell_type": "code",
   "execution_count": 5,
   "metadata": {},
   "outputs": [
    {
     "name": "stdout",
     "output_type": "stream",
     "text": [
      "['O', 'SI', 'TI', 'AL', 'FE', 'MG', 'MN', 'CA', 'NA', 'K', 'H']\n",
      "7\n"
     ]
    }
   ],
   "source": [
    "print(element_list)\n",
    "# get the index of an element of interest\n",
    "idx_CA = element_list.index(\"CA\")\n",
    "print(idx_CA)"
   ]
  },
  {
   "attachments": {},
   "cell_type": "markdown",
   "metadata": {},
   "source": [
    "`rock` is a `pytheriak.Rock`-object encapsulating all the state properties of the system at minimal *G*."
   ]
  },
  {
   "cell_type": "code",
   "execution_count": 6,
   "metadata": {},
   "outputs": [
    {
     "name": "stdout",
     "output_type": "stream",
     "text": [
      "<class 'pytheriak.wrapper.Rock'>\n"
     ]
    },
    {
     "data": {
      "text/plain": [
       "['bulk_composition_mol_percent',\n",
       " 'bulk_composition_moles',\n",
       " 'fluid_assemblage',\n",
       " 'g_system',\n",
       " 'g_system_per_mol_of_input',\n",
       " 'mineral_assemblage',\n",
       " 'mineral_delta_G',\n",
       " 'pressure',\n",
       " 'temperature',\n",
       " 'therin_PT',\n",
       " 'therin_bulk']"
      ]
     },
     "execution_count": 6,
     "metadata": {},
     "output_type": "execute_result"
    }
   ],
   "source": [
    "print(type(rock))\n",
    "# use the dir method to check out the objects attributes\n",
    "dir(rock)"
   ]
  },
  {
   "attachments": {},
   "cell_type": "markdown",
   "metadata": {},
   "source": [
    "Access bulk properties such as `g_system`, `bulk_composition_mol_percent`, ..."
   ]
  },
  {
   "cell_type": "code",
   "execution_count": 7,
   "metadata": {},
   "outputs": [
    {
     "data": {
      "text/plain": [
       "-33616714.95"
      ]
     },
     "execution_count": 7,
     "metadata": {},
     "output_type": "execute_result"
    }
   ],
   "source": [
    "rock.g_system   # in Joule"
   ]
  },
  {
   "attachments": {},
   "cell_type": "markdown",
   "metadata": {},
   "source": [
    "Or return the `mineral_assemblage` or `fluid_assemblage`. These lists hold `pytheriak.Phase`-objects with their respective properties."
   ]
  },
  {
   "cell_type": "code",
   "execution_count": 8,
   "metadata": {},
   "outputs": [
    {
     "data": {
      "text/plain": [
       "'FSP4TR_ab'"
      ]
     },
     "execution_count": 8,
     "metadata": {},
     "output_type": "execute_result"
    }
   ],
   "source": [
    "rock.mineral_assemblage\n",
    "# return the first mineral in the list and show its name\n",
    "rock.mineral_assemblage[0].name"
   ]
  },
  {
   "attachments": {},
   "cell_type": "markdown",
   "metadata": {},
   "source": [
    "Properties of `pytheriak.Phase`-objects are most efficiently accessed by list comprehensions.\\\n",
    "This is a very pythonic way to loop over lists in an efficient and easily readable manner."
   ]
  },
  {
   "cell_type": "code",
   "execution_count": 9,
   "metadata": {},
   "outputs": [
    {
     "name": "stdout",
     "output_type": "stream",
     "text": [
      "['FSP4TR_ab', 'WM_mu', 'BI14_annm', 'ST14_fst', 'ILM00_oilm1', 'q']\n",
      "[12.8524, 19.0816, 19.7347, 6.5059, 0.732, 41.0935]\n"
     ]
    }
   ],
   "source": [
    "mineral_names = [mineral.name for mineral in rock.mineral_assemblage]\n",
    "mineral_modes = [mineral.vol_percent for mineral in rock.mineral_assemblage]\n",
    "\n",
    "print(mineral_names)\n",
    "print(mineral_modes)"
   ]
  },
  {
   "attachments": {},
   "cell_type": "markdown",
   "metadata": {},
   "source": [
    "Phase composition is a list (representing a compositional vector) with the ordering as defined in the `element_list`. Return the composition of biotite using the following:"
   ]
  },
  {
   "cell_type": "code",
   "execution_count": 10,
   "metadata": {},
   "outputs": [
    {
     "name": "stdout",
     "output_type": "stream",
     "text": [
      "['O', 'SI', 'TI', 'AL', 'FE', 'MG', 'MN', 'CA', 'NA', 'K', 'H']\n",
      "[12.0, 2.628991, 0.077487, 1.604766, 1.489676, 1.1889, 0.01018, 0.0, 0.0, 1.0, 1.845027]\n"
     ]
    }
   ],
   "source": [
    "mineral_composition_apfu = [mineral.composition_apfu for mineral in rock.mineral_assemblage]\n",
    "print(element_list)\n",
    "print(mineral_composition_apfu[2])"
   ]
  },
  {
   "attachments": {},
   "cell_type": "markdown",
   "metadata": {},
   "source": [
    "### **Plotting I:** Phase assemblage"
   ]
  },
  {
   "attachments": {},
   "cell_type": "markdown",
   "metadata": {},
   "source": [
    "Use `matplotlib` to set up a figure and plot a pie chart of the mineral modes with `ax.pie()`.\\\n",
    "`seaborn` is used to access built-in colour palettes."
   ]
  },
  {
   "cell_type": "code",
   "execution_count": 11,
   "metadata": {},
   "outputs": [
    {
     "data": {
      "image/png": "[encoded data removed]",
      "text/plain": [
       "<Figure size 600x400 with 1 Axes>"
      ]
     },
     "metadata": {},
     "output_type": "display_data"
    }
   ],
   "source": [
    "fig, ax = plt.subplots(figsize=(6, 4))\n",
    "\n",
    "colors = sns.cubehelix_palette(len(mineral_modes))\n",
    "explode = np.repeat(0.04, len(mineral_modes))\n",
    "\n",
    "ax.pie(mineral_modes,\n",
    "       autopct=\"%.1f%%\",\n",
    "       pctdistance=1.2,\n",
    "       colors=colors,\n",
    "       explode=explode)\n",
    "\n",
    "ax.set_aspect(\"equal\")\n",
    "\n",
    "ax.legend(labels=mineral_names, bbox_to_anchor=(1.05, 1), frameon=False)\n",
    "\n",
    "ax.set_title(\"Mineral modes [vol%]\")\n",
    "\n",
    "fig.tight_layout()\n",
    "plt.show()"
   ]
  },
  {
   "attachments": {},
   "cell_type": "markdown",
   "metadata": {},
   "source": [
    "### **Plotting II:** Element distribution between phases"
   ]
  },
  {
   "attachments": {},
   "cell_type": "markdown",
   "metadata": {},
   "source": [
    "Access the mineral and bulk rock composition in moles and convert them into arrays."
   ]
  },
  {
   "cell_type": "code",
   "execution_count": 12,
   "metadata": {},
   "outputs": [
    {
     "name": "stdout",
     "output_type": "stream",
     "text": [
      "(6, 11)\n",
      "(11,)\n"
     ]
    }
   ],
   "source": [
    "mineral_composition = np.array([mineral.composition_moles for mineral in rock.mineral_assemblage])\n",
    "bulk_composition = np.array(rock.bulk_composition_moles)\n",
    "\n",
    "print(mineral_composition.shape)\n",
    "print(bulk_composition.shape)\n"
   ]
  },
  {
   "attachments": {},
   "cell_type": "markdown",
   "metadata": {},
   "source": [
    "`mineral_composition` is a 6 x 11-matrix, holding the compositional vector (11 elements) of the six stable minerals.\\\n",
    "`bulk_composition` is the compositional vector of the bulk rock.\\\n",
    "Dividing the `mineral_composition`-matrix elementwise with `bulk_composition`-vector results in a 6 x 11-matrix of relative element contribution."
   ]
  },
  {
   "cell_type": "code",
   "execution_count": 13,
   "metadata": {},
   "outputs": [],
   "source": [
    "mineral_composition_rel = mineral_composition / bulk_composition"
   ]
  },
  {
   "attachments": {},
   "cell_type": "markdown",
   "metadata": {},
   "source": [
    "Access the values for iron, magnesium, and manganese for all minerals.\\\n",
    "For iron $\\text{Fe}_{\\text{tot}}$ is plotted. With the chosen small amount of excess oxygen `\"O(0.1)\"`, $\\text{Fe}_{\\text{tot}} \\approx \\text{Fe}^{2+}$."
   ]
  },
  {
   "cell_type": "code",
   "execution_count": 14,
   "metadata": {},
   "outputs": [],
   "source": [
    "fe = mineral_composition_rel.T[element_list.index(\"FE\")]\n",
    "mg = mineral_composition_rel.T[element_list.index(\"MG\")]\n",
    "mn = mineral_composition_rel.T[element_list.index(\"MN\")]"
   ]
  },
  {
   "attachments": {},
   "cell_type": "markdown",
   "metadata": {},
   "source": [
    "Use `seaborn`'s `sns.barplot()` to plot relative distribution of these elements between the stable minerals."
   ]
  },
  {
   "cell_type": "code",
   "execution_count": 15,
   "metadata": {},
   "outputs": [
    {
     "data": {
      "image/png": "[encoded data removed]",
      "text/plain": [
       "<Figure size 1200x400 with 3 Axes>"
      ]
     },
     "metadata": {},
     "output_type": "display_data"
    }
   ],
   "source": [
    "fig, axs = plt.subplots(1, 3, figsize=(12, 4))\n",
    "\n",
    "# plot Fe-distribution\n",
    "axs[0].tick_params(axis='x', rotation=60)\n",
    "axs[0].set_frame_on(False)\n",
    "axs[0].set_ylim(0, 1)\n",
    "axs[0].set_ylabel(\"Fraction of element in phase\")\n",
    "axs[0].set_title(\"Fe in Phases of bulk Fe\")\n",
    "sns.barplot(x=mineral_names, y=fe, ax=axs[0], palette=sns.color_palette(\"light:#FFC300\"))\n",
    "# plot Mg-distribution\n",
    "axs[1].tick_params(axis='x', rotation=60)\n",
    "axs[1].set_frame_on(False)\n",
    "axs[1].set_ylim(0, 1)\n",
    "axs[1].axes.get_yaxis().set_visible(False)\n",
    "axs[1].set_title(\"Mg in Phases of bulk Mg\")\n",
    "sns.barplot(x=mineral_names, y=mg, ax=axs[1], palette=sns.color_palette(\"light:#FF5733\"))\n",
    "# plot Mn-distribution\n",
    "axs[2].tick_params(axis='x', rotation=60)\n",
    "axs[2].set_frame_on(False)\n",
    "axs[2].set_ylim(0, 1)\n",
    "axs[2].axes.get_yaxis().set_visible(False)\n",
    "axs[2].set_title(\"Mn in Phases of bulk Mn\")\n",
    "sns.barplot(x=mineral_names, y=mn, ax=axs[2], palette=sns.color_palette(\"light:#900C3F\"))\n",
    "\n",
    "fig.tight_layout()\n",
    "plt.show()"
   ]
  }
 ],
 "metadata": {
  "kernelspec": {
   "display_name": "pytheriak",
   "language": "python",
   "name": "python3"
  },
  "language_info": {
   "codemirror_mode": {
    "name": "ipython",
    "version": 3
   },
   "file_extension": ".py",
   "mimetype": "text/x-python",
   "name": "python",
   "nbconvert_exporter": "python",
   "pygments_lexer": "ipython3",
   "version": "3.10.9"
  },
  "orig_nbformat": 4
 },
 "nbformat": 4,
 "nbformat_minor": 2
}
